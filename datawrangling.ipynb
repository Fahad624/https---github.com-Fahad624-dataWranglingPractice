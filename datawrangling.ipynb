{
 "cells": [
  {
   "cell_type": "markdown",
   "id": "403a2115",
   "metadata": {},
   "source": [
    "# Data Wrangling\n"
   ]
  },
  {
   "cell_type": "code",
   "execution_count": null,
   "id": "4ebccd0e",
   "metadata": {},
   "outputs": [],
   "source": [
    "# import essential libraries\n",
    "import seaborn as sns\n",
    "import matplotlib.pyplot as plt\n",
    "import pandas as pd\n",
    "import numpy as np"
   ]
  },
  {
   "cell_type": "code",
   "execution_count": null,
   "id": "1edf7999",
   "metadata": {},
   "outputs": [],
   "source": [
    "# load data set\n",
    "kashti=sns.load_dataset(\"titanic\")\n",
    "ks1=kashti\n",
    "ks2=kashti"
   ]
  },
  {
   "cell_type": "code",
   "execution_count": 3,
   "id": "70c1c7fc",
   "metadata": {},
   "outputs": [
    {
     "data": {
      "application/vnd.microsoft.datawrangler.viewer.v0+json": {
       "columns": [
        {
         "name": "index",
         "rawType": "int64",
         "type": "integer"
        },
        {
         "name": "survived",
         "rawType": "int64",
         "type": "integer"
        },
        {
         "name": "pclass",
         "rawType": "int64",
         "type": "integer"
        },
        {
         "name": "sex",
         "rawType": "object",
         "type": "string"
        },
        {
         "name": "age",
         "rawType": "float64",
         "type": "float"
        },
        {
         "name": "sibsp",
         "rawType": "int64",
         "type": "integer"
        },
        {
         "name": "parch",
         "rawType": "int64",
         "type": "integer"
        },
        {
         "name": "fare",
         "rawType": "float64",
         "type": "float"
        },
        {
         "name": "embarked",
         "rawType": "object",
         "type": "string"
        },
        {
         "name": "class",
         "rawType": "category",
         "type": "unknown"
        },
        {
         "name": "who",
         "rawType": "object",
         "type": "string"
        },
        {
         "name": "adult_male",
         "rawType": "bool",
         "type": "boolean"
        },
        {
         "name": "deck",
         "rawType": "category",
         "type": "unknown"
        },
        {
         "name": "embark_town",
         "rawType": "object",
         "type": "string"
        },
        {
         "name": "alive",
         "rawType": "object",
         "type": "string"
        },
        {
         "name": "alone",
         "rawType": "bool",
         "type": "boolean"
        }
       ],
       "ref": "367f78b1-2202-46b6-bf3e-09b7fe3b6877",
       "rows": [
        [
         "0",
         "0",
         "3",
         "male",
         "22.0",
         "1",
         "0",
         "7.25",
         "S",
         "Third",
         "man",
         "True",
         null,
         "Southampton",
         "no",
         "False"
        ],
        [
         "1",
         "1",
         "1",
         "female",
         "38.0",
         "1",
         "0",
         "71.2833",
         "C",
         "First",
         "woman",
         "False",
         "C",
         "Cherbourg",
         "yes",
         "False"
        ],
        [
         "2",
         "1",
         "3",
         "female",
         "26.0",
         "0",
         "0",
         "7.925",
         "S",
         "Third",
         "woman",
         "False",
         null,
         "Southampton",
         "yes",
         "True"
        ],
        [
         "3",
         "1",
         "1",
         "female",
         "35.0",
         "1",
         "0",
         "53.1",
         "S",
         "First",
         "woman",
         "False",
         "C",
         "Southampton",
         "yes",
         "False"
        ],
        [
         "4",
         "0",
         "3",
         "male",
         "35.0",
         "0",
         "0",
         "8.05",
         "S",
         "Third",
         "man",
         "True",
         null,
         "Southampton",
         "no",
         "True"
        ]
       ],
       "shape": {
        "columns": 15,
        "rows": 5
       }
      },
      "text/html": [
       "<div>\n",
       "<style scoped>\n",
       "    .dataframe tbody tr th:only-of-type {\n",
       "        vertical-align: middle;\n",
       "    }\n",
       "\n",
       "    .dataframe tbody tr th {\n",
       "        vertical-align: top;\n",
       "    }\n",
       "\n",
       "    .dataframe thead th {\n",
       "        text-align: right;\n",
       "    }\n",
       "</style>\n",
       "<table border=\"1\" class=\"dataframe\">\n",
       "  <thead>\n",
       "    <tr style=\"text-align: right;\">\n",
       "      <th></th>\n",
       "      <th>survived</th>\n",
       "      <th>pclass</th>\n",
       "      <th>sex</th>\n",
       "      <th>age</th>\n",
       "      <th>sibsp</th>\n",
       "      <th>parch</th>\n",
       "      <th>fare</th>\n",
       "      <th>embarked</th>\n",
       "      <th>class</th>\n",
       "      <th>who</th>\n",
       "      <th>adult_male</th>\n",
       "      <th>deck</th>\n",
       "      <th>embark_town</th>\n",
       "      <th>alive</th>\n",
       "      <th>alone</th>\n",
       "    </tr>\n",
       "  </thead>\n",
       "  <tbody>\n",
       "    <tr>\n",
       "      <th>0</th>\n",
       "      <td>0</td>\n",
       "      <td>3</td>\n",
       "      <td>male</td>\n",
       "      <td>22.0</td>\n",
       "      <td>1</td>\n",
       "      <td>0</td>\n",
       "      <td>7.2500</td>\n",
       "      <td>S</td>\n",
       "      <td>Third</td>\n",
       "      <td>man</td>\n",
       "      <td>True</td>\n",
       "      <td>NaN</td>\n",
       "      <td>Southampton</td>\n",
       "      <td>no</td>\n",
       "      <td>False</td>\n",
       "    </tr>\n",
       "    <tr>\n",
       "      <th>1</th>\n",
       "      <td>1</td>\n",
       "      <td>1</td>\n",
       "      <td>female</td>\n",
       "      <td>38.0</td>\n",
       "      <td>1</td>\n",
       "      <td>0</td>\n",
       "      <td>71.2833</td>\n",
       "      <td>C</td>\n",
       "      <td>First</td>\n",
       "      <td>woman</td>\n",
       "      <td>False</td>\n",
       "      <td>C</td>\n",
       "      <td>Cherbourg</td>\n",
       "      <td>yes</td>\n",
       "      <td>False</td>\n",
       "    </tr>\n",
       "    <tr>\n",
       "      <th>2</th>\n",
       "      <td>1</td>\n",
       "      <td>3</td>\n",
       "      <td>female</td>\n",
       "      <td>26.0</td>\n",
       "      <td>0</td>\n",
       "      <td>0</td>\n",
       "      <td>7.9250</td>\n",
       "      <td>S</td>\n",
       "      <td>Third</td>\n",
       "      <td>woman</td>\n",
       "      <td>False</td>\n",
       "      <td>NaN</td>\n",
       "      <td>Southampton</td>\n",
       "      <td>yes</td>\n",
       "      <td>True</td>\n",
       "    </tr>\n",
       "    <tr>\n",
       "      <th>3</th>\n",
       "      <td>1</td>\n",
       "      <td>1</td>\n",
       "      <td>female</td>\n",
       "      <td>35.0</td>\n",
       "      <td>1</td>\n",
       "      <td>0</td>\n",
       "      <td>53.1000</td>\n",
       "      <td>S</td>\n",
       "      <td>First</td>\n",
       "      <td>woman</td>\n",
       "      <td>False</td>\n",
       "      <td>C</td>\n",
       "      <td>Southampton</td>\n",
       "      <td>yes</td>\n",
       "      <td>False</td>\n",
       "    </tr>\n",
       "    <tr>\n",
       "      <th>4</th>\n",
       "      <td>0</td>\n",
       "      <td>3</td>\n",
       "      <td>male</td>\n",
       "      <td>35.0</td>\n",
       "      <td>0</td>\n",
       "      <td>0</td>\n",
       "      <td>8.0500</td>\n",
       "      <td>S</td>\n",
       "      <td>Third</td>\n",
       "      <td>man</td>\n",
       "      <td>True</td>\n",
       "      <td>NaN</td>\n",
       "      <td>Southampton</td>\n",
       "      <td>no</td>\n",
       "      <td>True</td>\n",
       "    </tr>\n",
       "  </tbody>\n",
       "</table>\n",
       "</div>"
      ],
      "text/plain": [
       "   survived  pclass     sex   age  sibsp  parch     fare embarked  class  \\\n",
       "0         0       3    male  22.0      1      0   7.2500        S  Third   \n",
       "1         1       1  female  38.0      1      0  71.2833        C  First   \n",
       "2         1       3  female  26.0      0      0   7.9250        S  Third   \n",
       "3         1       1  female  35.0      1      0  53.1000        S  First   \n",
       "4         0       3    male  35.0      0      0   8.0500        S  Third   \n",
       "\n",
       "     who  adult_male deck  embark_town alive  alone  \n",
       "0    man        True  NaN  Southampton    no  False  \n",
       "1  woman       False    C    Cherbourg   yes  False  \n",
       "2  woman       False  NaN  Southampton   yes   True  \n",
       "3  woman       False    C  Southampton   yes  False  \n",
       "4    man        True  NaN  Southampton    no   True  "
      ]
     },
     "execution_count": 3,
     "metadata": {},
     "output_type": "execute_result"
    }
   ],
   "source": [
    "kashti.head()"
   ]
  },
  {
   "cell_type": "code",
   "execution_count": 4,
   "id": "8309a6eb",
   "metadata": {},
   "outputs": [
    {
     "data": {
      "application/vnd.microsoft.datawrangler.viewer.v0+json": {
       "columns": [
        {
         "name": "index",
         "rawType": "int64",
         "type": "integer"
        },
        {
         "name": "age",
         "rawType": "float64",
         "type": "float"
        }
       ],
       "ref": "e60accb5-ffb6-4966-b572-55f0ec883f6d",
       "rows": [
        [
         "0",
         "34.0"
        ],
        [
         "1",
         "50.0"
        ],
        [
         "2",
         "38.0"
        ],
        [
         "3",
         "47.0"
        ],
        [
         "4",
         "47.0"
        ]
       ],
       "shape": {
        "columns": 1,
        "rows": 5
       }
      },
      "text/plain": [
       "0    34.0\n",
       "1    50.0\n",
       "2    38.0\n",
       "3    47.0\n",
       "4    47.0\n",
       "Name: age, dtype: float64"
      ]
     },
     "execution_count": 4,
     "metadata": {},
     "output_type": "execute_result"
    }
   ],
   "source": [
    "# simple math operation\n",
    "(kashti[\"age\"]+12).head()"
   ]
  },
  {
   "cell_type": "markdown",
   "id": "48bf0ed2",
   "metadata": {},
   "source": [
    "# Dealing with missing values\n",
    "1.How\n",
    "- Average value of entire variable or similar data point\n",
    "- frequency of mode replacement\n",
    "- Replace based on other functions (Data sampler knows that)\n",
    "- ML algorithm can also be changed\n",
    "- Leave it like that\n",
    "  \n",
    "  2.Why\n",
    "  - its better beacause no data is lost\n",
    "  - less accurate"
   ]
  },
  {
   "cell_type": "code",
   "execution_count": null,
   "id": "cb3210b7",
   "metadata": {},
   "outputs": [
    {
     "data": {
      "application/vnd.microsoft.datawrangler.viewer.v0+json": {
       "columns": [
        {
         "name": "index",
         "rawType": "object",
         "type": "string"
        },
        {
         "name": "0",
         "rawType": "int64",
         "type": "integer"
        }
       ],
       "ref": "5fa23026-ec64-4655-af19-8b271ddc5a62",
       "rows": [
        [
         "survived",
         "0"
        ],
        [
         "pclass",
         "0"
        ],
        [
         "sex",
         "0"
        ],
        [
         "age",
         "177"
        ],
        [
         "sibsp",
         "0"
        ],
        [
         "parch",
         "0"
        ],
        [
         "fare",
         "0"
        ],
        [
         "embarked",
         "2"
        ],
        [
         "class",
         "0"
        ],
        [
         "who",
         "0"
        ],
        [
         "adult_male",
         "0"
        ],
        [
         "deck",
         "688"
        ],
        [
         "embark_town",
         "2"
        ],
        [
         "alive",
         "0"
        ],
        [
         "alone",
         "0"
        ]
       ],
       "shape": {
        "columns": 1,
        "rows": 15
       }
      },
      "text/plain": [
       "survived         0\n",
       "pclass           0\n",
       "sex              0\n",
       "age            177\n",
       "sibsp            0\n",
       "parch            0\n",
       "fare             0\n",
       "embarked         2\n",
       "class            0\n",
       "who              0\n",
       "adult_male       0\n",
       "deck           688\n",
       "embark_town      2\n",
       "alive            0\n",
       "alone            0\n",
       "dtype: int64"
      ]
     },
     "execution_count": 5,
     "metadata": {},
     "output_type": "execute_result"
    }
   ],
   "source": [
    "# check null values\n",
    "kashti.isnull().sum()"
   ]
  },
  {
   "cell_type": "code",
   "execution_count": 6,
   "id": "cf257ac7",
   "metadata": {},
   "outputs": [
    {
     "name": "stderr",
     "output_type": "stream",
     "text": [
      "C:\\Users\\M.Computer\\AppData\\Local\\Temp\\ipykernel_1368\\4184464733.py:2: FutureWarning: Series.replace without 'value' and with non-dict-like 'to_replace' is deprecated and will raise in a future version. Explicitly specify the new values instead.\n",
      "  kashti[\"age\"]=(kashti[\"age\"]).replace().mean()\n"
     ]
    },
    {
     "data": {
      "application/vnd.microsoft.datawrangler.viewer.v0+json": {
       "columns": [
        {
         "name": "index",
         "rawType": "int64",
         "type": "integer"
        },
        {
         "name": "age",
         "rawType": "float64",
         "type": "float"
        }
       ],
       "ref": "66cabc86-9630-46cd-91f8-1297681e7202",
       "rows": [
        [
         "0",
         "29.581560044893376"
        ],
        [
         "1",
         "29.581560044893376"
        ],
        [
         "2",
         "29.581560044893376"
        ],
        [
         "3",
         "29.581560044893376"
        ],
        [
         "4",
         "29.581560044893376"
        ],
        [
         "5",
         "29.581560044893376"
        ],
        [
         "6",
         "29.581560044893376"
        ],
        [
         "7",
         "29.581560044893376"
        ],
        [
         "8",
         "29.581560044893376"
        ],
        [
         "9",
         "29.581560044893376"
        ],
        [
         "10",
         "29.581560044893376"
        ],
        [
         "11",
         "29.581560044893376"
        ],
        [
         "12",
         "29.581560044893376"
        ],
        [
         "13",
         "29.581560044893376"
        ],
        [
         "14",
         "29.581560044893376"
        ],
        [
         "15",
         "29.581560044893376"
        ],
        [
         "16",
         "29.581560044893376"
        ],
        [
         "17",
         "29.581560044893376"
        ],
        [
         "18",
         "29.581560044893376"
        ],
        [
         "19",
         "29.581560044893376"
        ],
        [
         "20",
         "29.581560044893376"
        ],
        [
         "21",
         "29.581560044893376"
        ],
        [
         "22",
         "29.581560044893376"
        ],
        [
         "23",
         "29.581560044893376"
        ],
        [
         "24",
         "29.581560044893376"
        ],
        [
         "25",
         "29.581560044893376"
        ],
        [
         "26",
         "29.581560044893376"
        ],
        [
         "27",
         "29.581560044893376"
        ],
        [
         "28",
         "29.581560044893376"
        ],
        [
         "29",
         "29.581560044893376"
        ],
        [
         "30",
         "29.581560044893376"
        ],
        [
         "31",
         "29.581560044893376"
        ],
        [
         "32",
         "29.581560044893376"
        ],
        [
         "33",
         "29.581560044893376"
        ],
        [
         "34",
         "29.581560044893376"
        ],
        [
         "35",
         "29.581560044893376"
        ],
        [
         "36",
         "29.581560044893376"
        ],
        [
         "37",
         "29.581560044893376"
        ],
        [
         "38",
         "29.581560044893376"
        ],
        [
         "39",
         "29.581560044893376"
        ],
        [
         "40",
         "29.581560044893376"
        ],
        [
         "41",
         "29.581560044893376"
        ],
        [
         "42",
         "29.581560044893376"
        ],
        [
         "43",
         "29.581560044893376"
        ],
        [
         "44",
         "29.581560044893376"
        ],
        [
         "45",
         "29.581560044893376"
        ],
        [
         "46",
         "29.581560044893376"
        ],
        [
         "47",
         "29.581560044893376"
        ],
        [
         "48",
         "29.581560044893376"
        ],
        [
         "49",
         "29.581560044893376"
        ]
       ],
       "shape": {
        "columns": 1,
        "rows": 891
       }
      },
      "text/plain": [
       "0      29.58156\n",
       "1      29.58156\n",
       "2      29.58156\n",
       "3      29.58156\n",
       "4      29.58156\n",
       "         ...   \n",
       "886    29.58156\n",
       "887    29.58156\n",
       "888    29.58156\n",
       "889    29.58156\n",
       "890    29.58156\n",
       "Name: age, Length: 891, dtype: float64"
      ]
     },
     "execution_count": 6,
     "metadata": {},
     "output_type": "execute_result"
    }
   ],
   "source": [
    "# replace age with average\n",
    "kashti[\"age\"]=(kashti[\"age\"]).replace().mean()\n",
    "kashti[\"age\"]"
   ]
  },
  {
   "cell_type": "code",
   "execution_count": 7,
   "id": "0780eb1d",
   "metadata": {},
   "outputs": [
    {
     "data": {
      "application/vnd.microsoft.datawrangler.viewer.v0+json": {
       "columns": [
        {
         "name": "index",
         "rawType": "object",
         "type": "string"
        },
        {
         "name": "0",
         "rawType": "int64",
         "type": "integer"
        }
       ],
       "ref": "58e94d93-7db3-49e8-a5a9-ac50a438058c",
       "rows": [
        [
         "survived",
         "0"
        ],
        [
         "pclass",
         "0"
        ],
        [
         "sex",
         "0"
        ],
        [
         "age",
         "0"
        ],
        [
         "sibsp",
         "0"
        ],
        [
         "parch",
         "0"
        ],
        [
         "fare",
         "0"
        ],
        [
         "embarked",
         "2"
        ],
        [
         "class",
         "0"
        ],
        [
         "who",
         "0"
        ],
        [
         "adult_male",
         "0"
        ],
        [
         "deck",
         "688"
        ],
        [
         "embark_town",
         "2"
        ],
        [
         "alive",
         "0"
        ],
        [
         "alone",
         "0"
        ]
       ],
       "shape": {
        "columns": 1,
        "rows": 15
       }
      },
      "text/plain": [
       "survived         0\n",
       "pclass           0\n",
       "sex              0\n",
       "age              0\n",
       "sibsp            0\n",
       "parch            0\n",
       "fare             0\n",
       "embarked         2\n",
       "class            0\n",
       "who              0\n",
       "adult_male       0\n",
       "deck           688\n",
       "embark_town      2\n",
       "alive            0\n",
       "alone            0\n",
       "dtype: int64"
      ]
     },
     "execution_count": 7,
     "metadata": {},
     "output_type": "execute_result"
    }
   ],
   "source": [
    "kashti.isnull().sum()"
   ]
  },
  {
   "cell_type": "code",
   "execution_count": 8,
   "id": "51bdf9f2",
   "metadata": {},
   "outputs": [
    {
     "data": {
      "application/vnd.microsoft.datawrangler.viewer.v0+json": {
       "columns": [
        {
         "name": "index",
         "rawType": "int64",
         "type": "integer"
        },
        {
         "name": "deck",
         "rawType": "object",
         "type": "string"
        }
       ],
       "ref": "b8b69394-0b15-47e9-b794-6a6e67e6d42c",
       "rows": [
        [
         "0",
         "unknown"
        ],
        [
         "1",
         "C"
        ],
        [
         "2",
         "unknown"
        ],
        [
         "3",
         "C"
        ],
        [
         "4",
         "unknown"
        ],
        [
         "5",
         "unknown"
        ],
        [
         "6",
         "E"
        ],
        [
         "7",
         "unknown"
        ],
        [
         "8",
         "unknown"
        ],
        [
         "9",
         "unknown"
        ],
        [
         "10",
         "G"
        ],
        [
         "11",
         "C"
        ],
        [
         "12",
         "unknown"
        ],
        [
         "13",
         "unknown"
        ],
        [
         "14",
         "unknown"
        ],
        [
         "15",
         "unknown"
        ],
        [
         "16",
         "unknown"
        ],
        [
         "17",
         "unknown"
        ],
        [
         "18",
         "unknown"
        ],
        [
         "19",
         "unknown"
        ],
        [
         "20",
         "unknown"
        ],
        [
         "21",
         "D"
        ],
        [
         "22",
         "unknown"
        ],
        [
         "23",
         "A"
        ],
        [
         "24",
         "unknown"
        ],
        [
         "25",
         "unknown"
        ],
        [
         "26",
         "unknown"
        ],
        [
         "27",
         "C"
        ],
        [
         "28",
         "unknown"
        ],
        [
         "29",
         "unknown"
        ],
        [
         "30",
         "unknown"
        ],
        [
         "31",
         "B"
        ],
        [
         "32",
         "unknown"
        ],
        [
         "33",
         "unknown"
        ],
        [
         "34",
         "unknown"
        ],
        [
         "35",
         "unknown"
        ],
        [
         "36",
         "unknown"
        ],
        [
         "37",
         "unknown"
        ],
        [
         "38",
         "unknown"
        ],
        [
         "39",
         "unknown"
        ],
        [
         "40",
         "unknown"
        ],
        [
         "41",
         "unknown"
        ],
        [
         "42",
         "unknown"
        ],
        [
         "43",
         "unknown"
        ],
        [
         "44",
         "unknown"
        ],
        [
         "45",
         "unknown"
        ],
        [
         "46",
         "unknown"
        ],
        [
         "47",
         "unknown"
        ],
        [
         "48",
         "unknown"
        ],
        [
         "49",
         "unknown"
        ]
       ],
       "shape": {
        "columns": 1,
        "rows": 891
       }
      },
      "text/plain": [
       "0      unknown\n",
       "1            C\n",
       "2      unknown\n",
       "3            C\n",
       "4      unknown\n",
       "        ...   \n",
       "886    unknown\n",
       "887          B\n",
       "888    unknown\n",
       "889          C\n",
       "890    unknown\n",
       "Name: deck, Length: 891, dtype: object"
      ]
     },
     "execution_count": 8,
     "metadata": {},
     "output_type": "execute_result"
    }
   ],
   "source": [
    "# replace deck with \n",
    "kashti[\"deck\"]=(kashti[\"deck\"]).astype(str).replace(\"nan\",\"unknown\")\n",
    "kashti[\"deck\"]"
   ]
  },
  {
   "cell_type": "code",
   "execution_count": null,
   "id": "6532e80e",
   "metadata": {},
   "outputs": [
    {
     "data": {
      "text/plain": [
       "(889, 15)"
      ]
     },
     "execution_count": 9,
     "metadata": {},
     "output_type": "execute_result"
    }
   ],
   "source": [
    "# drop nan (not a number) rows\n",
    "kashti=kashti.dropna()\n",
    "kashti.shape"
   ]
  },
  {
   "cell_type": "code",
   "execution_count": 10,
   "id": "c7fa8c0e",
   "metadata": {},
   "outputs": [
    {
     "data": {
      "application/vnd.microsoft.datawrangler.viewer.v0+json": {
       "columns": [
        {
         "name": "index",
         "rawType": "object",
         "type": "string"
        },
        {
         "name": "0",
         "rawType": "int64",
         "type": "integer"
        }
       ],
       "ref": "5728388a-dc08-4069-bb6b-81910d09c60a",
       "rows": [
        [
         "survived",
         "0"
        ],
        [
         "pclass",
         "0"
        ],
        [
         "sex",
         "0"
        ],
        [
         "age",
         "0"
        ],
        [
         "sibsp",
         "0"
        ],
        [
         "parch",
         "0"
        ],
        [
         "fare",
         "0"
        ],
        [
         "embarked",
         "0"
        ],
        [
         "class",
         "0"
        ],
        [
         "who",
         "0"
        ],
        [
         "adult_male",
         "0"
        ],
        [
         "deck",
         "0"
        ],
        [
         "embark_town",
         "0"
        ],
        [
         "alive",
         "0"
        ],
        [
         "alone",
         "0"
        ]
       ],
       "shape": {
        "columns": 1,
        "rows": 15
       }
      },
      "text/plain": [
       "survived       0\n",
       "pclass         0\n",
       "sex            0\n",
       "age            0\n",
       "sibsp          0\n",
       "parch          0\n",
       "fare           0\n",
       "embarked       0\n",
       "class          0\n",
       "who            0\n",
       "adult_male     0\n",
       "deck           0\n",
       "embark_town    0\n",
       "alive          0\n",
       "alone          0\n",
       "dtype: int64"
      ]
     },
     "execution_count": 10,
     "metadata": {},
     "output_type": "execute_result"
    }
   ],
   "source": [
    "kashti.isnull().sum()"
   ]
  },
  {
   "cell_type": "code",
   "execution_count": 11,
   "id": "cc8db773",
   "metadata": {},
   "outputs": [],
   "source": [
    "kashti=sns.load_dataset(\"titanic\")"
   ]
  },
  {
   "cell_type": "code",
   "execution_count": 12,
   "id": "0826bd92",
   "metadata": {},
   "outputs": [
    {
     "data": {
      "application/vnd.microsoft.datawrangler.viewer.v0+json": {
       "columns": [
        {
         "name": "index",
         "rawType": "object",
         "type": "string"
        },
        {
         "name": "0",
         "rawType": "int64",
         "type": "integer"
        }
       ],
       "ref": "86224222-9c44-4156-8ad8-d0b1653f2493",
       "rows": [
        [
         "survived",
         "0"
        ],
        [
         "pclass",
         "0"
        ],
        [
         "sex",
         "0"
        ],
        [
         "age",
         "177"
        ],
        [
         "sibsp",
         "0"
        ],
        [
         "parch",
         "0"
        ],
        [
         "fare",
         "0"
        ],
        [
         "embarked",
         "2"
        ],
        [
         "class",
         "0"
        ],
        [
         "who",
         "0"
        ],
        [
         "adult_male",
         "0"
        ],
        [
         "deck",
         "688"
        ],
        [
         "embark_town",
         "2"
        ],
        [
         "alive",
         "0"
        ],
        [
         "alone",
         "0"
        ]
       ],
       "shape": {
        "columns": 1,
        "rows": 15
       }
      },
      "text/plain": [
       "survived         0\n",
       "pclass           0\n",
       "sex              0\n",
       "age            177\n",
       "sibsp            0\n",
       "parch            0\n",
       "fare             0\n",
       "embarked         2\n",
       "class            0\n",
       "who              0\n",
       "adult_male       0\n",
       "deck           688\n",
       "embark_town      2\n",
       "alive            0\n",
       "alone            0\n",
       "dtype: int64"
      ]
     },
     "execution_count": 12,
     "metadata": {},
     "output_type": "execute_result"
    }
   ],
   "source": [
    "kashti.isnull().sum()"
   ]
  },
  {
   "cell_type": "code",
   "execution_count": null,
   "id": "a9fa34c8",
   "metadata": {},
   "outputs": [],
   "source": [
    "# drop specific column nan rows\n",
    "kashti.dropna(subset=[\"age\"],axis=0,inplace=True)"
   ]
  },
  {
   "cell_type": "code",
   "execution_count": null,
   "id": "4b07f5ee",
   "metadata": {},
   "outputs": [
    {
     "data": {
      "text/plain": [
       "(714, 15)"
      ]
     },
     "execution_count": 14,
     "metadata": {},
     "output_type": "execute_result"
    }
   ],
   "source": [
    "# check how many columns and rows\n",
    "kashti.shape"
   ]
  },
  {
   "cell_type": "code",
   "execution_count": null,
   "id": "3ddb8537",
   "metadata": {},
   "outputs": [
    {
     "data": {
      "text/plain": [
       "(184, 15)"
      ]
     },
     "execution_count": 15,
     "metadata": {},
     "output_type": "execute_result"
    }
   ],
   "source": [
    "# drop specific column nan rows\n",
    "kashti.dropna(subset=[\"deck\"],axis=0,inplace=True)\n",
    "kashti.shape"
   ]
  },
  {
   "cell_type": "code",
   "execution_count": null,
   "id": "d7fd1d04",
   "metadata": {},
   "outputs": [],
   "source": [
    "# drop nan values of whole data set\n",
    "# inplace means update in true values\n",
    "kashti.dropna(inplace=True)"
   ]
  },
  {
   "cell_type": "code",
   "execution_count": 17,
   "id": "16f66d27",
   "metadata": {},
   "outputs": [
    {
     "data": {
      "text/plain": [
       "(182, 15)"
      ]
     },
     "execution_count": 17,
     "metadata": {},
     "output_type": "execute_result"
    }
   ],
   "source": [
    "kashti.shape"
   ]
  },
  {
   "cell_type": "code",
   "execution_count": 18,
   "id": "b70c877a",
   "metadata": {},
   "outputs": [
    {
     "data": {
      "application/vnd.microsoft.datawrangler.viewer.v0+json": {
       "columns": [
        {
         "name": "index",
         "rawType": "object",
         "type": "string"
        },
        {
         "name": "0",
         "rawType": "int64",
         "type": "integer"
        }
       ],
       "ref": "242830b7-b86b-45df-b557-a82c9dc01591",
       "rows": [
        [
         "survived",
         "0"
        ],
        [
         "pclass",
         "0"
        ],
        [
         "sex",
         "0"
        ],
        [
         "age",
         "0"
        ],
        [
         "sibsp",
         "0"
        ],
        [
         "parch",
         "0"
        ],
        [
         "fare",
         "0"
        ],
        [
         "embarked",
         "2"
        ],
        [
         "class",
         "0"
        ],
        [
         "who",
         "0"
        ],
        [
         "adult_male",
         "0"
        ],
        [
         "deck",
         "0"
        ],
        [
         "embark_town",
         "2"
        ],
        [
         "alive",
         "0"
        ],
        [
         "alone",
         "0"
        ]
       ],
       "shape": {
        "columns": 1,
        "rows": 15
       }
      },
      "text/plain": [
       "survived       0\n",
       "pclass         0\n",
       "sex            0\n",
       "age            0\n",
       "sibsp          0\n",
       "parch          0\n",
       "fare           0\n",
       "embarked       2\n",
       "class          0\n",
       "who            0\n",
       "adult_male     0\n",
       "deck           0\n",
       "embark_town    2\n",
       "alive          0\n",
       "alone          0\n",
       "dtype: int64"
      ]
     },
     "execution_count": 18,
     "metadata": {},
     "output_type": "execute_result"
    }
   ],
   "source": [
    "ks1.isnull().sum()"
   ]
  },
  {
   "cell_type": "code",
   "execution_count": 19,
   "id": "28e2e4c6",
   "metadata": {},
   "outputs": [],
   "source": [
    "ks1=sns.load_dataset(\"titanic\")"
   ]
  },
  {
   "cell_type": "code",
   "execution_count": 20,
   "id": "d1bc7611",
   "metadata": {},
   "outputs": [
    {
     "data": {
      "application/vnd.microsoft.datawrangler.viewer.v0+json": {
       "columns": [
        {
         "name": "index",
         "rawType": "object",
         "type": "string"
        },
        {
         "name": "0",
         "rawType": "int64",
         "type": "integer"
        }
       ],
       "ref": "b2c070b6-fedb-4e6f-85a1-2a77c3513492",
       "rows": [
        [
         "survived",
         "0"
        ],
        [
         "pclass",
         "0"
        ],
        [
         "sex",
         "0"
        ],
        [
         "age",
         "177"
        ],
        [
         "sibsp",
         "0"
        ],
        [
         "parch",
         "0"
        ],
        [
         "fare",
         "0"
        ],
        [
         "embarked",
         "2"
        ],
        [
         "class",
         "0"
        ],
        [
         "who",
         "0"
        ],
        [
         "adult_male",
         "0"
        ],
        [
         "deck",
         "688"
        ],
        [
         "embark_town",
         "2"
        ],
        [
         "alive",
         "0"
        ],
        [
         "alone",
         "0"
        ]
       ],
       "shape": {
        "columns": 1,
        "rows": 15
       }
      },
      "text/plain": [
       "survived         0\n",
       "pclass           0\n",
       "sex              0\n",
       "age            177\n",
       "sibsp            0\n",
       "parch            0\n",
       "fare             0\n",
       "embarked         2\n",
       "class            0\n",
       "who              0\n",
       "adult_male       0\n",
       "deck           688\n",
       "embark_town      2\n",
       "alive            0\n",
       "alone            0\n",
       "dtype: int64"
      ]
     },
     "execution_count": 20,
     "metadata": {},
     "output_type": "execute_result"
    }
   ],
   "source": [
    "ks1.isnull().sum()"
   ]
  },
  {
   "cell_type": "markdown",
   "id": "4c42e67b",
   "metadata": {},
   "source": [
    "# replacing missing values"
   ]
  },
  {
   "cell_type": "code",
   "execution_count": 21,
   "id": "e31490fe",
   "metadata": {},
   "outputs": [
    {
     "name": "stderr",
     "output_type": "stream",
     "text": [
      "C:\\Users\\M.Computer\\AppData\\Local\\Temp\\ipykernel_1368\\3505487745.py:2: FutureWarning: Series.replace without 'value' and with non-dict-like 'to_replace' is deprecated and will raise in a future version. Explicitly specify the new values instead.\n",
      "  ks1[\"age\"]=(ks1[\"age\"]).replace().mean()\n"
     ]
    }
   ],
   "source": [
    "# replacing  by mean\n",
    "ks1[\"age\"]=(ks1[\"age\"]).replace().mean()"
   ]
  },
  {
   "cell_type": "code",
   "execution_count": 22,
   "id": "cc66f7ea",
   "metadata": {},
   "outputs": [
    {
     "data": {
      "application/vnd.microsoft.datawrangler.viewer.v0+json": {
       "columns": [
        {
         "name": "index",
         "rawType": "object",
         "type": "string"
        },
        {
         "name": "0",
         "rawType": "int64",
         "type": "integer"
        }
       ],
       "ref": "7090158d-aec5-4341-903f-1504feaa730e",
       "rows": [
        [
         "survived",
         "0"
        ],
        [
         "pclass",
         "0"
        ],
        [
         "sex",
         "0"
        ],
        [
         "age",
         "0"
        ],
        [
         "sibsp",
         "0"
        ],
        [
         "parch",
         "0"
        ],
        [
         "fare",
         "0"
        ],
        [
         "embarked",
         "2"
        ],
        [
         "class",
         "0"
        ],
        [
         "who",
         "0"
        ],
        [
         "adult_male",
         "0"
        ],
        [
         "deck",
         "688"
        ],
        [
         "embark_town",
         "2"
        ],
        [
         "alive",
         "0"
        ],
        [
         "alone",
         "0"
        ]
       ],
       "shape": {
        "columns": 1,
        "rows": 15
       }
      },
      "text/plain": [
       "survived         0\n",
       "pclass           0\n",
       "sex              0\n",
       "age              0\n",
       "sibsp            0\n",
       "parch            0\n",
       "fare             0\n",
       "embarked         2\n",
       "class            0\n",
       "who              0\n",
       "adult_male       0\n",
       "deck           688\n",
       "embark_town      2\n",
       "alive            0\n",
       "alone            0\n",
       "dtype: int64"
      ]
     },
     "execution_count": 22,
     "metadata": {},
     "output_type": "execute_result"
    }
   ],
   "source": [
    "ks1.isnull().sum()"
   ]
  },
  {
   "cell_type": "code",
   "execution_count": null,
   "id": "b8957803",
   "metadata": {},
   "outputs": [
    {
     "data": {
      "application/vnd.microsoft.datawrangler.viewer.v0+json": {
       "columns": [
        {
         "name": "index",
         "rawType": "object",
         "type": "string"
        },
        {
         "name": "0",
         "rawType": "int64",
         "type": "integer"
        }
       ],
       "ref": "13f82545-14a0-4b75-bd1c-f5fb23fd09b3",
       "rows": [
        [
         "survived",
         "0"
        ],
        [
         "pclass",
         "0"
        ],
        [
         "sex",
         "0"
        ],
        [
         "age",
         "0"
        ],
        [
         "sibsp",
         "0"
        ],
        [
         "parch",
         "0"
        ],
        [
         "fare",
         "0"
        ],
        [
         "embarked",
         "2"
        ],
        [
         "class",
         "0"
        ],
        [
         "who",
         "0"
        ],
        [
         "adult_male",
         "0"
        ],
        [
         "deck",
         "0"
        ],
        [
         "embark_town",
         "2"
        ],
        [
         "alive",
         "0"
        ],
        [
         "alone",
         "0"
        ]
       ],
       "shape": {
        "columns": 1,
        "rows": 15
       }
      },
      "text/plain": [
       "survived       0\n",
       "pclass         0\n",
       "sex            0\n",
       "age            0\n",
       "sibsp          0\n",
       "parch          0\n",
       "fare           0\n",
       "embarked       2\n",
       "class          0\n",
       "who            0\n",
       "adult_male     0\n",
       "deck           0\n",
       "embark_town    2\n",
       "alive          0\n",
       "alone          0\n",
       "dtype: int64"
      ]
     },
     "execution_count": 23,
     "metadata": {},
     "output_type": "execute_result"
    }
   ],
   "source": [
    "# change data type of specific column values\n",
    "ks1[\"deck\"]=(ks1[\"deck\"]).astype(str).replace(\"nan\",\"unknown\")\n",
    "ks1.isnull().sum()"
   ]
  },
  {
   "cell_type": "code",
   "execution_count": 24,
   "id": "1fa5a38e",
   "metadata": {},
   "outputs": [
    {
     "data": {
      "text/plain": [
       "(889, 15)"
      ]
     },
     "execution_count": 24,
     "metadata": {},
     "output_type": "execute_result"
    }
   ],
   "source": [
    "ks1.dropna(inplace=True)\n",
    "ks1.shape"
   ]
  },
  {
   "cell_type": "code",
   "execution_count": 25,
   "id": "3f81ad73",
   "metadata": {},
   "outputs": [
    {
     "data": {
      "application/vnd.microsoft.datawrangler.viewer.v0+json": {
       "columns": [
        {
         "name": "index",
         "rawType": "object",
         "type": "string"
        },
        {
         "name": "0",
         "rawType": "object",
         "type": "unknown"
        }
       ],
       "ref": "d499a498-c565-433c-a123-2fd01cafc25f",
       "rows": [
        [
         "survived",
         "int64"
        ],
        [
         "pclass",
         "int64"
        ],
        [
         "sex",
         "object"
        ],
        [
         "age",
         "float64"
        ],
        [
         "sibsp",
         "int64"
        ],
        [
         "parch",
         "int64"
        ],
        [
         "fare",
         "float64"
        ],
        [
         "embarked",
         "object"
        ],
        [
         "class",
         "category"
        ],
        [
         "who",
         "object"
        ],
        [
         "adult_male",
         "bool"
        ],
        [
         "deck",
         "object"
        ],
        [
         "embark_town",
         "object"
        ],
        [
         "alive",
         "object"
        ],
        [
         "alone",
         "bool"
        ]
       ],
       "shape": {
        "columns": 1,
        "rows": 15
       }
      },
      "text/plain": [
       "survived          int64\n",
       "pclass            int64\n",
       "sex              object\n",
       "age             float64\n",
       "sibsp             int64\n",
       "parch             int64\n",
       "fare            float64\n",
       "embarked         object\n",
       "class          category\n",
       "who              object\n",
       "adult_male         bool\n",
       "deck             object\n",
       "embark_town      object\n",
       "alive            object\n",
       "alone              bool\n",
       "dtype: object"
      ]
     },
     "execution_count": 25,
     "metadata": {},
     "output_type": "execute_result"
    }
   ],
   "source": [
    "# how to find data types\n",
    "ks1.dtypes"
   ]
  },
  {
   "cell_type": "code",
   "execution_count": 26,
   "id": "1942648c",
   "metadata": {},
   "outputs": [
    {
     "data": {
      "application/vnd.microsoft.datawrangler.viewer.v0+json": {
       "columns": [
        {
         "name": "index",
         "rawType": "object",
         "type": "string"
        },
        {
         "name": "0",
         "rawType": "object",
         "type": "unknown"
        }
       ],
       "ref": "c338cb1c-047f-47ac-b379-f591c237cb4a",
       "rows": [
        [
         "survived",
         "string"
        ],
        [
         "pclass",
         "int64"
        ],
        [
         "sex",
         "object"
        ],
        [
         "age",
         "float64"
        ],
        [
         "sibsp",
         "int64"
        ],
        [
         "parch",
         "int64"
        ],
        [
         "fare",
         "float64"
        ],
        [
         "embarked",
         "object"
        ],
        [
         "class",
         "category"
        ],
        [
         "who",
         "object"
        ],
        [
         "adult_male",
         "bool"
        ],
        [
         "deck",
         "object"
        ],
        [
         "embark_town",
         "object"
        ],
        [
         "alive",
         "object"
        ],
        [
         "alone",
         "bool"
        ]
       ],
       "shape": {
        "columns": 1,
        "rows": 15
       }
      },
      "text/plain": [
       "survived       string[python]\n",
       "pclass                  int64\n",
       "sex                    object\n",
       "age                   float64\n",
       "sibsp                   int64\n",
       "parch                   int64\n",
       "fare                  float64\n",
       "embarked               object\n",
       "class                category\n",
       "who                    object\n",
       "adult_male               bool\n",
       "deck                   object\n",
       "embark_town            object\n",
       "alive                  object\n",
       "alone                    bool\n",
       "dtype: object"
      ]
     },
     "execution_count": 26,
     "metadata": {},
     "output_type": "execute_result"
    }
   ],
   "source": [
    "# convert data types\n",
    "ks1[\"survived\"]=(ks1[\"survived\"]).astype(\"string\")\n",
    "ks1.dtypes"
   ]
  },
  {
   "cell_type": "code",
   "execution_count": null,
   "id": "9cc1898b",
   "metadata": {},
   "outputs": [
    {
     "data": {
      "application/vnd.microsoft.datawrangler.viewer.v0+json": {
       "columns": [
        {
         "name": "index",
         "rawType": "object",
         "type": "string"
        },
        {
         "name": "0",
         "rawType": "object",
         "type": "unknown"
        }
       ],
       "ref": "c86ad420-f9d8-4c99-b006-749db5024820",
       "rows": [
        [
         "survived",
         "Int64"
        ],
        [
         "pclass",
         "int64"
        ],
        [
         "sex",
         "object"
        ],
        [
         "age",
         "float64"
        ],
        [
         "sibsp",
         "int64"
        ],
        [
         "parch",
         "int64"
        ],
        [
         "fare",
         "float64"
        ],
        [
         "embarked",
         "object"
        ],
        [
         "class",
         "category"
        ],
        [
         "who",
         "object"
        ],
        [
         "adult_male",
         "bool"
        ],
        [
         "deck",
         "object"
        ],
        [
         "embark_town",
         "object"
        ],
        [
         "alive",
         "object"
        ],
        [
         "alone",
         "bool"
        ]
       ],
       "shape": {
        "columns": 1,
        "rows": 15
       }
      },
      "text/plain": [
       "survived          Int64\n",
       "pclass            int64\n",
       "sex              object\n",
       "age             float64\n",
       "sibsp             int64\n",
       "parch             int64\n",
       "fare            float64\n",
       "embarked         object\n",
       "class          category\n",
       "who              object\n",
       "adult_male         bool\n",
       "deck             object\n",
       "embark_town      object\n",
       "alive            object\n",
       "alone              bool\n",
       "dtype: object"
      ]
     },
     "execution_count": 27,
     "metadata": {},
     "output_type": "execute_result"
    }
   ],
   "source": [
    "# change data type of specific column\n",
    "ks1[\"survived\"]=(ks1[\"survived\"]).astype(\"Int64\")\n",
    "ks1.dtypes"
   ]
  },
  {
   "cell_type": "code",
   "execution_count": 28,
   "id": "98f33fb5",
   "metadata": {},
   "outputs": [
    {
     "data": {
      "application/vnd.microsoft.datawrangler.viewer.v0+json": {
       "columns": [
        {
         "name": "index",
         "rawType": "int64",
         "type": "integer"
        },
        {
         "name": "age",
         "rawType": "float64",
         "type": "float"
        }
       ],
       "ref": "bbab09a6-3165-467a-901e-e8bdf2c7ff08",
       "rows": [
        [
         "0",
         "10797.269416386082"
        ],
        [
         "1",
         "10797.269416386082"
        ],
        [
         "2",
         "10797.269416386082"
        ],
        [
         "3",
         "10797.269416386082"
        ],
        [
         "4",
         "10797.269416386082"
        ],
        [
         "5",
         "10797.269416386082"
        ],
        [
         "6",
         "10797.269416386082"
        ],
        [
         "7",
         "10797.269416386082"
        ],
        [
         "8",
         "10797.269416386082"
        ],
        [
         "9",
         "10797.269416386082"
        ],
        [
         "10",
         "10797.269416386082"
        ],
        [
         "11",
         "10797.269416386082"
        ],
        [
         "12",
         "10797.269416386082"
        ],
        [
         "13",
         "10797.269416386082"
        ],
        [
         "14",
         "10797.269416386082"
        ],
        [
         "15",
         "10797.269416386082"
        ],
        [
         "16",
         "10797.269416386082"
        ],
        [
         "17",
         "10797.269416386082"
        ],
        [
         "18",
         "10797.269416386082"
        ],
        [
         "19",
         "10797.269416386082"
        ],
        [
         "20",
         "10797.269416386082"
        ],
        [
         "21",
         "10797.269416386082"
        ],
        [
         "22",
         "10797.269416386082"
        ],
        [
         "23",
         "10797.269416386082"
        ],
        [
         "24",
         "10797.269416386082"
        ],
        [
         "25",
         "10797.269416386082"
        ],
        [
         "26",
         "10797.269416386082"
        ],
        [
         "27",
         "10797.269416386082"
        ],
        [
         "28",
         "10797.269416386082"
        ],
        [
         "29",
         "10797.269416386082"
        ],
        [
         "30",
         "10797.269416386082"
        ],
        [
         "31",
         "10797.269416386082"
        ],
        [
         "32",
         "10797.269416386082"
        ],
        [
         "33",
         "10797.269416386082"
        ],
        [
         "34",
         "10797.269416386082"
        ],
        [
         "35",
         "10797.269416386082"
        ],
        [
         "36",
         "10797.269416386082"
        ],
        [
         "37",
         "10797.269416386082"
        ],
        [
         "38",
         "10797.269416386082"
        ],
        [
         "39",
         "10797.269416386082"
        ],
        [
         "40",
         "10797.269416386082"
        ],
        [
         "41",
         "10797.269416386082"
        ],
        [
         "42",
         "10797.269416386082"
        ],
        [
         "43",
         "10797.269416386082"
        ],
        [
         "44",
         "10797.269416386082"
        ],
        [
         "45",
         "10797.269416386082"
        ],
        [
         "46",
         "10797.269416386082"
        ],
        [
         "47",
         "10797.269416386082"
        ],
        [
         "48",
         "10797.269416386082"
        ],
        [
         "49",
         "10797.269416386082"
        ]
       ],
       "shape": {
        "columns": 1,
        "rows": 889
       }
      },
      "text/plain": [
       "0      10797.269416\n",
       "1      10797.269416\n",
       "2      10797.269416\n",
       "3      10797.269416\n",
       "4      10797.269416\n",
       "           ...     \n",
       "886    10797.269416\n",
       "887    10797.269416\n",
       "888    10797.269416\n",
       "889    10797.269416\n",
       "890    10797.269416\n",
       "Name: age, Length: 889, dtype: float64"
      ]
     },
     "execution_count": 28,
     "metadata": {},
     "output_type": "execute_result"
    }
   ],
   "source": [
    "# convert age in days use simple operators\n",
    "ks1[\"age\"]=(ks1[\"age\"]*365)\n",
    "ks1[\"age\"]"
   ]
  },
  {
   "cell_type": "code",
   "execution_count": 29,
   "id": "86a5f314",
   "metadata": {},
   "outputs": [
    {
     "data": {
      "application/vnd.microsoft.datawrangler.viewer.v0+json": {
       "columns": [
        {
         "name": "index",
         "rawType": "int64",
         "type": "integer"
        },
        {
         "name": "age in days",
         "rawType": "float64",
         "type": "float"
        }
       ],
       "ref": "7d617f60-46b0-4ed8-91e1-478871d2cacc",
       "rows": [
        [
         "0",
         "10797.269416386082"
        ],
        [
         "1",
         "10797.269416386082"
        ],
        [
         "2",
         "10797.269416386082"
        ],
        [
         "3",
         "10797.269416386082"
        ],
        [
         "4",
         "10797.269416386082"
        ],
        [
         "5",
         "10797.269416386082"
        ],
        [
         "6",
         "10797.269416386082"
        ],
        [
         "7",
         "10797.269416386082"
        ],
        [
         "8",
         "10797.269416386082"
        ],
        [
         "9",
         "10797.269416386082"
        ],
        [
         "10",
         "10797.269416386082"
        ],
        [
         "11",
         "10797.269416386082"
        ],
        [
         "12",
         "10797.269416386082"
        ],
        [
         "13",
         "10797.269416386082"
        ],
        [
         "14",
         "10797.269416386082"
        ],
        [
         "15",
         "10797.269416386082"
        ],
        [
         "16",
         "10797.269416386082"
        ],
        [
         "17",
         "10797.269416386082"
        ],
        [
         "18",
         "10797.269416386082"
        ],
        [
         "19",
         "10797.269416386082"
        ],
        [
         "20",
         "10797.269416386082"
        ],
        [
         "21",
         "10797.269416386082"
        ],
        [
         "22",
         "10797.269416386082"
        ],
        [
         "23",
         "10797.269416386082"
        ],
        [
         "24",
         "10797.269416386082"
        ],
        [
         "25",
         "10797.269416386082"
        ],
        [
         "26",
         "10797.269416386082"
        ],
        [
         "27",
         "10797.269416386082"
        ],
        [
         "28",
         "10797.269416386082"
        ],
        [
         "29",
         "10797.269416386082"
        ],
        [
         "30",
         "10797.269416386082"
        ],
        [
         "31",
         "10797.269416386082"
        ],
        [
         "32",
         "10797.269416386082"
        ],
        [
         "33",
         "10797.269416386082"
        ],
        [
         "34",
         "10797.269416386082"
        ],
        [
         "35",
         "10797.269416386082"
        ],
        [
         "36",
         "10797.269416386082"
        ],
        [
         "37",
         "10797.269416386082"
        ],
        [
         "38",
         "10797.269416386082"
        ],
        [
         "39",
         "10797.269416386082"
        ],
        [
         "40",
         "10797.269416386082"
        ],
        [
         "41",
         "10797.269416386082"
        ],
        [
         "42",
         "10797.269416386082"
        ],
        [
         "43",
         "10797.269416386082"
        ],
        [
         "44",
         "10797.269416386082"
        ],
        [
         "45",
         "10797.269416386082"
        ],
        [
         "46",
         "10797.269416386082"
        ],
        [
         "47",
         "10797.269416386082"
        ],
        [
         "48",
         "10797.269416386082"
        ],
        [
         "49",
         "10797.269416386082"
        ]
       ],
       "shape": {
        "columns": 1,
        "rows": 889
       }
      },
      "text/plain": [
       "0      10797.269416\n",
       "1      10797.269416\n",
       "2      10797.269416\n",
       "3      10797.269416\n",
       "4      10797.269416\n",
       "           ...     \n",
       "886    10797.269416\n",
       "887    10797.269416\n",
       "888    10797.269416\n",
       "889    10797.269416\n",
       "890    10797.269416\n",
       "Name: age in days, Length: 889, dtype: float64"
      ]
     },
     "execution_count": 29,
     "metadata": {},
     "output_type": "execute_result"
    }
   ],
   "source": [
    "# rename column \n",
    "ks1.rename(columns={\"age\":\"age in days\"},inplace=True)\n",
    "ks1[\"age in days\"]"
   ]
  },
  {
   "cell_type": "code",
   "execution_count": 30,
   "id": "157e40ad",
   "metadata": {},
   "outputs": [
    {
     "data": {
      "application/vnd.microsoft.datawrangler.viewer.v0+json": {
       "columns": [
        {
         "name": "index",
         "rawType": "int64",
         "type": "integer"
        },
        {
         "name": "age in days",
         "rawType": "int64",
         "type": "integer"
        }
       ],
       "ref": "4e579c58-b0f6-4e1e-8115-cf2d85cfb7cd",
       "rows": [
        [
         "0",
         "10797"
        ],
        [
         "1",
         "10797"
        ],
        [
         "2",
         "10797"
        ],
        [
         "3",
         "10797"
        ],
        [
         "4",
         "10797"
        ],
        [
         "5",
         "10797"
        ],
        [
         "6",
         "10797"
        ],
        [
         "7",
         "10797"
        ],
        [
         "8",
         "10797"
        ],
        [
         "9",
         "10797"
        ],
        [
         "10",
         "10797"
        ],
        [
         "11",
         "10797"
        ],
        [
         "12",
         "10797"
        ],
        [
         "13",
         "10797"
        ],
        [
         "14",
         "10797"
        ],
        [
         "15",
         "10797"
        ],
        [
         "16",
         "10797"
        ],
        [
         "17",
         "10797"
        ],
        [
         "18",
         "10797"
        ],
        [
         "19",
         "10797"
        ],
        [
         "20",
         "10797"
        ],
        [
         "21",
         "10797"
        ],
        [
         "22",
         "10797"
        ],
        [
         "23",
         "10797"
        ],
        [
         "24",
         "10797"
        ],
        [
         "25",
         "10797"
        ],
        [
         "26",
         "10797"
        ],
        [
         "27",
         "10797"
        ],
        [
         "28",
         "10797"
        ],
        [
         "29",
         "10797"
        ],
        [
         "30",
         "10797"
        ],
        [
         "31",
         "10797"
        ],
        [
         "32",
         "10797"
        ],
        [
         "33",
         "10797"
        ],
        [
         "34",
         "10797"
        ],
        [
         "35",
         "10797"
        ],
        [
         "36",
         "10797"
        ],
        [
         "37",
         "10797"
        ],
        [
         "38",
         "10797"
        ],
        [
         "39",
         "10797"
        ],
        [
         "40",
         "10797"
        ],
        [
         "41",
         "10797"
        ],
        [
         "42",
         "10797"
        ],
        [
         "43",
         "10797"
        ],
        [
         "44",
         "10797"
        ],
        [
         "45",
         "10797"
        ],
        [
         "46",
         "10797"
        ],
        [
         "47",
         "10797"
        ],
        [
         "48",
         "10797"
        ],
        [
         "49",
         "10797"
        ]
       ],
       "shape": {
        "columns": 1,
        "rows": 889
       }
      },
      "text/plain": [
       "0      10797\n",
       "1      10797\n",
       "2      10797\n",
       "3      10797\n",
       "4      10797\n",
       "       ...  \n",
       "886    10797\n",
       "887    10797\n",
       "888    10797\n",
       "889    10797\n",
       "890    10797\n",
       "Name: age in days, Length: 889, dtype: int64"
      ]
     },
     "execution_count": 30,
     "metadata": {},
     "output_type": "execute_result"
    }
   ],
   "source": [
    "# use typecasting to remove float in age\n",
    "ks1[\"age in days\"]=ks1[\"age in days\"].astype(int)\n",
    "ks1[\"age in days\"]"
   ]
  },
  {
   "cell_type": "markdown",
   "id": "455e9d01",
   "metadata": {},
   "source": [
    "# Data Normalization\n",
    "- Uniform the tes\n",
    "- Making sure they have same impact\n",
    "- Aik machli samandar main ayr ak jar main\n",
    "- Also for computational reasons"
   ]
  },
  {
   "cell_type": "code",
   "execution_count": null,
   "id": "e08e14ac",
   "metadata": {},
   "outputs": [],
   "source": [
    "# normalize specific columns\n",
    "ks4=kashti[[\"age\",\"fare\"]]"
   ]
  },
  {
   "cell_type": "code",
   "execution_count": 62,
   "id": "a6804bf7",
   "metadata": {},
   "outputs": [
    {
     "data": {
      "application/vnd.microsoft.datawrangler.viewer.v0+json": {
       "columns": [
        {
         "name": "index",
         "rawType": "int64",
         "type": "integer"
        },
        {
         "name": "age",
         "rawType": "float64",
         "type": "float"
        },
        {
         "name": "fare",
         "rawType": "float64",
         "type": "float"
        }
       ],
       "ref": "7bf2614c-e4d5-4d50-8ba6-b6a402e4584b",
       "rows": [
        [
         "1",
         "38.0",
         "71.2833"
        ],
        [
         "3",
         "35.0",
         "53.1"
        ],
        [
         "6",
         "54.0",
         "51.8625"
        ],
        [
         "10",
         "4.0",
         "16.7"
        ],
        [
         "11",
         "58.0",
         "26.55"
        ]
       ],
       "shape": {
        "columns": 2,
        "rows": 5
       }
      },
      "text/html": [
       "<div>\n",
       "<style scoped>\n",
       "    .dataframe tbody tr th:only-of-type {\n",
       "        vertical-align: middle;\n",
       "    }\n",
       "\n",
       "    .dataframe tbody tr th {\n",
       "        vertical-align: top;\n",
       "    }\n",
       "\n",
       "    .dataframe thead th {\n",
       "        text-align: right;\n",
       "    }\n",
       "</style>\n",
       "<table border=\"1\" class=\"dataframe\">\n",
       "  <thead>\n",
       "    <tr style=\"text-align: right;\">\n",
       "      <th></th>\n",
       "      <th>age</th>\n",
       "      <th>fare</th>\n",
       "    </tr>\n",
       "  </thead>\n",
       "  <tbody>\n",
       "    <tr>\n",
       "      <th>1</th>\n",
       "      <td>38.0</td>\n",
       "      <td>71.2833</td>\n",
       "    </tr>\n",
       "    <tr>\n",
       "      <th>3</th>\n",
       "      <td>35.0</td>\n",
       "      <td>53.1000</td>\n",
       "    </tr>\n",
       "    <tr>\n",
       "      <th>6</th>\n",
       "      <td>54.0</td>\n",
       "      <td>51.8625</td>\n",
       "    </tr>\n",
       "    <tr>\n",
       "      <th>10</th>\n",
       "      <td>4.0</td>\n",
       "      <td>16.7000</td>\n",
       "    </tr>\n",
       "    <tr>\n",
       "      <th>11</th>\n",
       "      <td>58.0</td>\n",
       "      <td>26.5500</td>\n",
       "    </tr>\n",
       "  </tbody>\n",
       "</table>\n",
       "</div>"
      ],
      "text/plain": [
       "     age     fare\n",
       "1   38.0  71.2833\n",
       "3   35.0  53.1000\n",
       "6   54.0  51.8625\n",
       "10   4.0  16.7000\n",
       "11  58.0  26.5500"
      ]
     },
     "execution_count": 62,
     "metadata": {},
     "output_type": "execute_result"
    }
   ],
   "source": [
    "ks4.head()"
   ]
  },
  {
   "cell_type": "markdown",
   "id": "7c4712b2",
   "metadata": {},
   "source": [
    "- The above data really in wide range and we need to normalize because this is  hard to compare\n",
    "- Normalization change the values to range of 0-to-1 (now both have similar influence on our model )\n",
    "# Methods of Normalization\n",
    "1. Simple feature scaling\n",
    "    - x(new)=x(old)/x(max)\n",
    "2. Min Max Method\n",
    "3. Z-score (standard score)-3-to-3\n",
    "4. Log transformation"
   ]
  },
  {
   "cell_type": "code",
   "execution_count": 64,
   "id": "d33bfad1",
   "metadata": {},
   "outputs": [
    {
     "name": "stderr",
     "output_type": "stream",
     "text": [
      "C:\\Users\\M.Computer\\AppData\\Local\\Temp\\ipykernel_1368\\1130208548.py:2: SettingWithCopyWarning: \n",
      "A value is trying to be set on a copy of a slice from a DataFrame.\n",
      "Try using .loc[row_indexer,col_indexer] = value instead\n",
      "\n",
      "See the caveats in the documentation: https://pandas.pydata.org/pandas-docs/stable/user_guide/indexing.html#returning-a-view-versus-a-copy\n",
      "  ks4[\"age\"]=(ks4[\"age\"])/(ks4[\"age\"].max())\n"
     ]
    },
    {
     "data": {
      "application/vnd.microsoft.datawrangler.viewer.v0+json": {
       "columns": [
        {
         "name": "index",
         "rawType": "int64",
         "type": "integer"
        },
        {
         "name": "age",
         "rawType": "float64",
         "type": "float"
        }
       ],
       "ref": "178b7015-506c-4f32-ab3b-b87d5bd19ef0",
       "rows": [
        [
         "1",
         "0.475"
        ],
        [
         "3",
         "0.4375"
        ],
        [
         "6",
         "0.675"
        ],
        [
         "10",
         "0.05"
        ],
        [
         "11",
         "0.725"
        ],
        [
         "21",
         "0.425"
        ],
        [
         "23",
         "0.35"
        ],
        [
         "27",
         "0.2375"
        ],
        [
         "52",
         "0.6125"
        ],
        [
         "54",
         "0.8125"
        ],
        [
         "62",
         "0.5625"
        ],
        [
         "66",
         "0.3625"
        ],
        [
         "75",
         "0.3125"
        ],
        [
         "88",
         "0.2875"
        ],
        [
         "92",
         "0.575"
        ],
        [
         "96",
         "0.8875"
        ],
        [
         "97",
         "0.2875"
        ],
        [
         "102",
         "0.2625"
        ],
        [
         "110",
         "0.5875"
        ],
        [
         "118",
         "0.3"
        ],
        [
         "123",
         "0.40625"
        ],
        [
         "124",
         "0.675"
        ],
        [
         "136",
         "0.2375"
        ],
        [
         "137",
         "0.4625"
        ],
        [
         "139",
         "0.3"
        ],
        [
         "148",
         "0.45625"
        ],
        [
         "151",
         "0.275"
        ],
        [
         "170",
         "0.7625"
        ],
        [
         "174",
         "0.7"
        ],
        [
         "177",
         "0.625"
        ],
        [
         "183",
         "0.0125"
        ],
        [
         "193",
         "0.0375"
        ],
        [
         "194",
         "0.55"
        ],
        [
         "195",
         "0.725"
        ],
        [
         "205",
         "0.025"
        ],
        [
         "209",
         "0.5"
        ],
        [
         "215",
         "0.3875"
        ],
        [
         "218",
         "0.4"
        ],
        [
         "224",
         "0.475"
        ],
        [
         "230",
         "0.4375"
        ],
        [
         "245",
         "0.55"
        ],
        [
         "248",
         "0.4625"
        ],
        [
         "251",
         "0.3625"
        ],
        [
         "252",
         "0.775"
        ],
        [
         "257",
         "0.375"
        ],
        [
         "262",
         "0.65"
        ],
        [
         "263",
         "0.5"
        ],
        [
         "268",
         "0.725"
        ],
        [
         "269",
         "0.4375"
        ],
        [
         "273",
         "0.4625"
        ]
       ],
       "shape": {
        "columns": 1,
        "rows": 182
       }
      },
      "text/plain": [
       "1      0.4750\n",
       "3      0.4375\n",
       "6      0.6750\n",
       "10     0.0500\n",
       "11     0.7250\n",
       "        ...  \n",
       "871    0.5875\n",
       "872    0.4125\n",
       "879    0.7000\n",
       "887    0.2375\n",
       "889    0.3250\n",
       "Name: age, Length: 182, dtype: float64"
      ]
     },
     "execution_count": 64,
     "metadata": {},
     "output_type": "execute_result"
    }
   ],
   "source": [
    "# simple feature scaling\n",
    "ks4[\"age\"]=(ks4[\"age\"])/(ks4[\"age\"].max())\n",
    "ks4[\"age\"]"
   ]
  },
  {
   "cell_type": "code",
   "execution_count": 65,
   "id": "9e789fd2",
   "metadata": {},
   "outputs": [
    {
     "name": "stderr",
     "output_type": "stream",
     "text": [
      "C:\\Users\\M.Computer\\AppData\\Local\\Temp\\ipykernel_1368\\1824186954.py:2: SettingWithCopyWarning: \n",
      "A value is trying to be set on a copy of a slice from a DataFrame.\n",
      "Try using .loc[row_indexer,col_indexer] = value instead\n",
      "\n",
      "See the caveats in the documentation: https://pandas.pydata.org/pandas-docs/stable/user_guide/indexing.html#returning-a-view-versus-a-copy\n",
      "  ks4[\"fare\"]=(ks4[\"fare\"]-ks4[\"fare\"].min())/(ks4[\"fare\"].max()-ks4[\"fare\"].min())\n"
     ]
    },
    {
     "data": {
      "application/vnd.microsoft.datawrangler.viewer.v0+json": {
       "columns": [
        {
         "name": "index",
         "rawType": "int64",
         "type": "integer"
        },
        {
         "name": "fare",
         "rawType": "float64",
         "type": "float"
        }
       ],
       "ref": "ad4b7ed9-a61e-4afc-a541-d3d54a58049f",
       "rows": [
        [
         "1",
         "0.13913573538264068"
        ],
        [
         "3",
         "0.10364429745562033"
        ],
        [
         "6",
         "0.10122885832000206"
        ],
        [
         "10",
         "0.03259622914329302"
        ],
        [
         "11",
         "0.051822148727810165"
        ],
        [
         "21",
         "0.025374310111545468"
        ],
        [
         "23",
         "0.06929138530460492"
        ],
        [
         "27",
         "0.5133418122566505"
        ],
        [
         "52",
         "0.1497654242623688"
        ],
        [
         "54",
         "0.1209753416358076"
        ],
        [
         "62",
         "0.16293234896625058"
        ],
        [
         "66",
         "0.020494635090094415"
        ],
        [
         "75",
         "0.014931805565640218"
        ],
        [
         "88",
         "0.5133418122566505"
        ],
        [
         "92",
         "0.11940564777490723"
        ],
        [
         "96",
         "0.06764049365134761"
        ],
        [
         "97",
         "0.12366716556464086"
        ],
        [
         "102",
         "0.15085515328815924"
        ],
        [
         "110",
         "0.10149724044618187"
        ],
        [
         "118",
         "0.4831284260198326"
        ],
        [
         "123",
         "0.025374310111545468"
        ],
        [
         "124",
         "0.15085515328815924"
        ],
        [
         "136",
         "0.051301584996521765"
        ],
        [
         "137",
         "0.10364429745562033"
        ],
        [
         "139",
         "0.15458810467956932"
        ],
        [
         "148",
         "0.050748620223090936"
        ],
        [
         "151",
         "0.12999454257145598"
        ],
        [
         "170",
         "0.06538764528744409"
        ],
        [
         "174",
         "0.05991421140938287"
        ],
        [
         "177",
         "0.05604306762136532"
        ],
        [
         "183",
         "0.0761229303346364"
        ],
        [
         "193",
         "0.050748620223090936"
        ],
        [
         "194",
         "0.05410739813385612"
        ],
        [
         "195",
         "0.2859895551532101"
        ],
        [
         "205",
         "0.02042143996477265"
        ],
        [
         "209",
         "0.060507970265993034"
        ],
        [
         "215",
         "0.22109807522194713"
        ],
        [
         "218",
         "0.14891148113361488"
        ],
        [
         "224",
         "0.17566830077223786"
        ],
        [
         "230",
         "0.16293234896625058"
        ],
        [
         "245",
         "0.17566830077223786"
        ],
        [
         "248",
         "0.10257896680493714"
        ],
        [
         "251",
         "0.02042143996477265"
        ],
        [
         "252",
         "0.051822148727810165"
        ],
        [
         "257",
         "0.16883675574220638"
        ],
        [
         "262",
         "0.1554664461834305"
        ],
        [
         "263",
         "0.0"
        ],
        [
         "268",
         "0.2995388511917728"
        ],
        [
         "269",
         "0.2647385704347907"
        ],
        [
         "273",
         "0.057970539254838485"
        ]
       ],
       "shape": {
        "columns": 1,
        "rows": 182
       }
      },
      "text/plain": [
       "1      0.139136\n",
       "3      0.103644\n",
       "6      0.101229\n",
       "10     0.032596\n",
       "11     0.051822\n",
       "         ...   \n",
       "871    0.102579\n",
       "872    0.009759\n",
       "879    0.162314\n",
       "887    0.058556\n",
       "889    0.058556\n",
       "Name: fare, Length: 182, dtype: float64"
      ]
     },
     "execution_count": 65,
     "metadata": {},
     "output_type": "execute_result"
    }
   ],
   "source": [
    "# min max method\n",
    "ks4[\"fare\"]=(ks4[\"fare\"]-ks4[\"fare\"].min())/(ks4[\"fare\"].max()-ks4[\"fare\"].min())\n",
    "ks4[\"fare\"]"
   ]
  },
  {
   "cell_type": "code",
   "execution_count": null,
   "id": "79cc7e81",
   "metadata": {},
   "outputs": [
    {
     "data": {
      "application/vnd.microsoft.datawrangler.viewer.v0+json": {
       "columns": [
        {
         "name": "index",
         "rawType": "int64",
         "type": "integer"
        },
        {
         "name": "age",
         "rawType": "float64",
         "type": "float"
        }
       ],
       "ref": "a45b57c3-71fd-4461-bf1a-06ddf281d749",
       "rows": [
        [
         "1",
         "0.475"
        ],
        [
         "3",
         "0.4375"
        ],
        [
         "6",
         "0.675"
        ],
        [
         "10",
         "0.05"
        ],
        [
         "11",
         "0.725"
        ],
        [
         "21",
         "0.425"
        ],
        [
         "23",
         "0.35"
        ],
        [
         "27",
         "0.2375"
        ],
        [
         "52",
         "0.6125"
        ],
        [
         "54",
         "0.8125"
        ],
        [
         "62",
         "0.5625"
        ],
        [
         "66",
         "0.3625"
        ],
        [
         "75",
         "0.3125"
        ],
        [
         "88",
         "0.2875"
        ],
        [
         "92",
         "0.575"
        ],
        [
         "96",
         "0.8875"
        ],
        [
         "97",
         "0.2875"
        ],
        [
         "102",
         "0.2625"
        ],
        [
         "110",
         "0.5875"
        ],
        [
         "118",
         "0.3"
        ],
        [
         "123",
         "0.40625"
        ],
        [
         "124",
         "0.675"
        ],
        [
         "136",
         "0.2375"
        ],
        [
         "137",
         "0.4625"
        ],
        [
         "139",
         "0.3"
        ],
        [
         "148",
         "0.45625"
        ],
        [
         "151",
         "0.275"
        ],
        [
         "170",
         "0.7625"
        ],
        [
         "174",
         "0.7"
        ],
        [
         "177",
         "0.625"
        ],
        [
         "183",
         "0.0125"
        ],
        [
         "193",
         "0.0375"
        ],
        [
         "194",
         "0.55"
        ],
        [
         "195",
         "0.725"
        ],
        [
         "205",
         "0.025"
        ],
        [
         "209",
         "0.5"
        ],
        [
         "215",
         "0.3875"
        ],
        [
         "218",
         "0.4"
        ],
        [
         "224",
         "0.475"
        ],
        [
         "230",
         "0.4375"
        ],
        [
         "245",
         "0.55"
        ],
        [
         "248",
         "0.4625"
        ],
        [
         "251",
         "0.3625"
        ],
        [
         "252",
         "0.775"
        ],
        [
         "257",
         "0.375"
        ],
        [
         "262",
         "0.65"
        ],
        [
         "263",
         "0.5"
        ],
        [
         "268",
         "0.725"
        ],
        [
         "269",
         "0.4375"
        ],
        [
         "273",
         "0.4625"
        ]
       ],
       "shape": {
        "columns": 1,
        "rows": 182
       }
      },
      "text/plain": [
       "1      0.4750\n",
       "3      0.4375\n",
       "6      0.6750\n",
       "10     0.0500\n",
       "11     0.7250\n",
       "        ...  \n",
       "871    0.5875\n",
       "872    0.4125\n",
       "879    0.7000\n",
       "887    0.2375\n",
       "889    0.3250\n",
       "Name: age, Length: 182, dtype: float64"
      ]
     },
     "execution_count": 66,
     "metadata": {},
     "output_type": "execute_result"
    }
   ],
   "source": [
    "# get specific column data\n",
    "ks4[\"age\"]"
   ]
  },
  {
   "cell_type": "code",
   "execution_count": 67,
   "id": "a44ffb19",
   "metadata": {},
   "outputs": [
    {
     "name": "stderr",
     "output_type": "stream",
     "text": [
      "C:\\Users\\M.Computer\\AppData\\Local\\Temp\\ipykernel_1368\\231141249.py:2: SettingWithCopyWarning: \n",
      "A value is trying to be set on a copy of a slice from a DataFrame.\n",
      "Try using .loc[row_indexer,col_indexer] = value instead\n",
      "\n",
      "See the caveats in the documentation: https://pandas.pydata.org/pandas-docs/stable/user_guide/indexing.html#returning-a-view-versus-a-copy\n",
      "  ks4[\"fare\"]=(ks4[\"fare\"]-ks4[\"fare\"].mean())/(ks4[\"fare\"].std())\n"
     ]
    },
    {
     "data": {
      "application/vnd.microsoft.datawrangler.viewer.v0+json": {
       "columns": [
        {
         "name": "index",
         "rawType": "int64",
         "type": "integer"
        },
        {
         "name": "age",
         "rawType": "float64",
         "type": "float"
        },
        {
         "name": "fare",
         "rawType": "float64",
         "type": "float"
        }
       ],
       "ref": "a93e1a93-37ab-4b52-81bc-f75de0212693",
       "rows": [
        [
         "1",
         "0.475",
         "-0.09983472207611804"
        ],
        [
         "3",
         "0.4375",
         "-0.3375535873243976"
        ],
        [
         "6",
         "0.675",
         "-0.3537320090489881"
        ],
        [
         "10",
         "0.05",
         "-0.8134279717891196"
        ],
        [
         "11",
         "0.725",
         "-0.6846542715974298"
        ]
       ],
       "shape": {
        "columns": 2,
        "rows": 5
       }
      },
      "text/html": [
       "<div>\n",
       "<style scoped>\n",
       "    .dataframe tbody tr th:only-of-type {\n",
       "        vertical-align: middle;\n",
       "    }\n",
       "\n",
       "    .dataframe tbody tr th {\n",
       "        vertical-align: top;\n",
       "    }\n",
       "\n",
       "    .dataframe thead th {\n",
       "        text-align: right;\n",
       "    }\n",
       "</style>\n",
       "<table border=\"1\" class=\"dataframe\">\n",
       "  <thead>\n",
       "    <tr style=\"text-align: right;\">\n",
       "      <th></th>\n",
       "      <th>age</th>\n",
       "      <th>fare</th>\n",
       "    </tr>\n",
       "  </thead>\n",
       "  <tbody>\n",
       "    <tr>\n",
       "      <th>1</th>\n",
       "      <td>0.4750</td>\n",
       "      <td>-0.099835</td>\n",
       "    </tr>\n",
       "    <tr>\n",
       "      <th>3</th>\n",
       "      <td>0.4375</td>\n",
       "      <td>-0.337554</td>\n",
       "    </tr>\n",
       "    <tr>\n",
       "      <th>6</th>\n",
       "      <td>0.6750</td>\n",
       "      <td>-0.353732</td>\n",
       "    </tr>\n",
       "    <tr>\n",
       "      <th>10</th>\n",
       "      <td>0.0500</td>\n",
       "      <td>-0.813428</td>\n",
       "    </tr>\n",
       "    <tr>\n",
       "      <th>11</th>\n",
       "      <td>0.7250</td>\n",
       "      <td>-0.684654</td>\n",
       "    </tr>\n",
       "  </tbody>\n",
       "</table>\n",
       "</div>"
      ],
      "text/plain": [
       "       age      fare\n",
       "1   0.4750 -0.099835\n",
       "3   0.4375 -0.337554\n",
       "6   0.6750 -0.353732\n",
       "10  0.0500 -0.813428\n",
       "11  0.7250 -0.684654"
      ]
     },
     "execution_count": 67,
     "metadata": {},
     "output_type": "execute_result"
    }
   ],
   "source": [
    "# Z-score method\n",
    "ks4[\"fare\"]=(ks4[\"fare\"]-ks4[\"fare\"].mean())/(ks4[\"fare\"].std())\n",
    "ks4.head()"
   ]
  },
  {
   "cell_type": "code",
   "execution_count": 68,
   "id": "cb6fe27f",
   "metadata": {},
   "outputs": [
    {
     "name": "stderr",
     "output_type": "stream",
     "text": [
      "C:\\Users\\M.Computer\\AppData\\Local\\Temp\\ipykernel_1368\\3849765269.py:2: SettingWithCopyWarning: \n",
      "A value is trying to be set on a copy of a slice from a DataFrame.\n",
      "Try using .loc[row_indexer,col_indexer] = value instead\n",
      "\n",
      "See the caveats in the documentation: https://pandas.pydata.org/pandas-docs/stable/user_guide/indexing.html#returning-a-view-versus-a-copy\n",
      "  ks4[\"age\"]=np.log(ks4[\"age\"])\n"
     ]
    },
    {
     "data": {
      "application/vnd.microsoft.datawrangler.viewer.v0+json": {
       "columns": [
        {
         "name": "index",
         "rawType": "int64",
         "type": "integer"
        },
        {
         "name": "age",
         "rawType": "float64",
         "type": "float"
        },
        {
         "name": "fare",
         "rawType": "float64",
         "type": "float"
        }
       ],
       "ref": "9db38a85-9c07-40ca-89a1-58d91d65dab8",
       "rows": [
        [
         "1",
         "-0.7444404749474959",
         "-0.09983472207611804"
        ],
        [
         "3",
         "-0.8266785731844679",
         "-0.3375535873243976"
        ],
        [
         "6",
         "-0.3930425881096072",
         "-0.3537320090489881"
        ],
        [
         "10",
         "-2.995732273553991",
         "-0.8134279717891196"
        ],
        [
         "11",
         "-0.32158362412746233",
         "-0.6846542715974298"
        ]
       ],
       "shape": {
        "columns": 2,
        "rows": 5
       }
      },
      "text/html": [
       "<div>\n",
       "<style scoped>\n",
       "    .dataframe tbody tr th:only-of-type {\n",
       "        vertical-align: middle;\n",
       "    }\n",
       "\n",
       "    .dataframe tbody tr th {\n",
       "        vertical-align: top;\n",
       "    }\n",
       "\n",
       "    .dataframe thead th {\n",
       "        text-align: right;\n",
       "    }\n",
       "</style>\n",
       "<table border=\"1\" class=\"dataframe\">\n",
       "  <thead>\n",
       "    <tr style=\"text-align: right;\">\n",
       "      <th></th>\n",
       "      <th>age</th>\n",
       "      <th>fare</th>\n",
       "    </tr>\n",
       "  </thead>\n",
       "  <tbody>\n",
       "    <tr>\n",
       "      <th>1</th>\n",
       "      <td>-0.744440</td>\n",
       "      <td>-0.099835</td>\n",
       "    </tr>\n",
       "    <tr>\n",
       "      <th>3</th>\n",
       "      <td>-0.826679</td>\n",
       "      <td>-0.337554</td>\n",
       "    </tr>\n",
       "    <tr>\n",
       "      <th>6</th>\n",
       "      <td>-0.393043</td>\n",
       "      <td>-0.353732</td>\n",
       "    </tr>\n",
       "    <tr>\n",
       "      <th>10</th>\n",
       "      <td>-2.995732</td>\n",
       "      <td>-0.813428</td>\n",
       "    </tr>\n",
       "    <tr>\n",
       "      <th>11</th>\n",
       "      <td>-0.321584</td>\n",
       "      <td>-0.684654</td>\n",
       "    </tr>\n",
       "  </tbody>\n",
       "</table>\n",
       "</div>"
      ],
      "text/plain": [
       "         age      fare\n",
       "1  -0.744440 -0.099835\n",
       "3  -0.826679 -0.337554\n",
       "6  -0.393043 -0.353732\n",
       "10 -2.995732 -0.813428\n",
       "11 -0.321584 -0.684654"
      ]
     },
     "execution_count": 68,
     "metadata": {},
     "output_type": "execute_result"
    }
   ],
   "source": [
    "# log transformation method\n",
    "ks4[\"age\"]=np.log(ks4[\"age\"])\n",
    "ks4.head()"
   ]
  },
  {
   "cell_type": "markdown",
   "id": "40d7bc29",
   "metadata": {},
   "source": [
    "# Binning\n",
    "- Grouping of values into smaller number of values\n",
    "- Convert numeric into categories (jawan,bachay,borhay) or 1-16 and 17-30 etc\n",
    "- To have better understading of groups\n",
    "    - Low vs mid vs high price"
   ]
  },
  {
   "cell_type": "code",
   "execution_count": 71,
   "id": "c1ae3ee2",
   "metadata": {},
   "outputs": [
    {
     "data": {
      "text/plain": [
       "(182, 15)"
      ]
     },
     "execution_count": 71,
     "metadata": {},
     "output_type": "execute_result"
    }
   ],
   "source": [
    "ks=sns.load_dataset(\"titanic\")\n",
    "ks.dropna(inplace=True)\n",
    "ks.shape"
   ]
  },
  {
   "cell_type": "code",
   "execution_count": 72,
   "id": "13d183f6",
   "metadata": {},
   "outputs": [
    {
     "data": {
      "text/plain": [
       "(182, 15)"
      ]
     },
     "execution_count": 72,
     "metadata": {},
     "output_type": "execute_result"
    }
   ],
   "source": [
    "ks.shape"
   ]
  },
  {
   "cell_type": "code",
   "execution_count": 79,
   "id": "03dbe125",
   "metadata": {},
   "outputs": [],
   "source": [
    "# binning of age into different groups\n",
    "bins=[0,18,40,ks[\"age\"].max()]\n",
    "age_groups=[\"child\",\"young\",\"old\"]\n",
    "ks[\"age_group\"]=pd.cut(ks[\"age\"],bins=bins,labels=age_groups,include_lowest=True)"
   ]
  },
  {
   "cell_type": "code",
   "execution_count": null,
   "id": "d32afdfe",
   "metadata": {},
   "outputs": [
    {
     "data": {
      "application/vnd.microsoft.datawrangler.viewer.v0+json": {
       "columns": [
        {
         "name": "index",
         "rawType": "int64",
         "type": "integer"
        },
        {
         "name": "age_group",
         "rawType": "category",
         "type": "unknown"
        }
       ],
       "ref": "820aa252-2e0d-43e5-84a7-160bf4678e74",
       "rows": [
        [
         "1",
         "young"
        ],
        [
         "3",
         "young"
        ],
        [
         "6",
         "old"
        ],
        [
         "10",
         "child"
        ],
        [
         "11",
         "old"
        ],
        [
         "21",
         "young"
        ],
        [
         "23",
         "young"
        ],
        [
         "27",
         "young"
        ],
        [
         "52",
         "old"
        ],
        [
         "54",
         "old"
        ],
        [
         "62",
         "old"
        ],
        [
         "66",
         "young"
        ],
        [
         "75",
         "young"
        ],
        [
         "88",
         "young"
        ],
        [
         "92",
         "old"
        ],
        [
         "96",
         "old"
        ],
        [
         "97",
         "young"
        ],
        [
         "102",
         "young"
        ],
        [
         "110",
         "old"
        ],
        [
         "118",
         "young"
        ],
        [
         "123",
         "young"
        ],
        [
         "124",
         "old"
        ],
        [
         "136",
         "young"
        ],
        [
         "137",
         "young"
        ],
        [
         "139",
         "young"
        ],
        [
         "148",
         "young"
        ],
        [
         "151",
         "young"
        ],
        [
         "170",
         "old"
        ],
        [
         "174",
         "old"
        ],
        [
         "177",
         "old"
        ],
        [
         "183",
         "child"
        ],
        [
         "193",
         "child"
        ],
        [
         "194",
         "old"
        ],
        [
         "195",
         "old"
        ],
        [
         "205",
         "child"
        ],
        [
         "209",
         "young"
        ],
        [
         "215",
         "young"
        ],
        [
         "218",
         "young"
        ],
        [
         "224",
         "young"
        ],
        [
         "230",
         "young"
        ],
        [
         "245",
         "old"
        ],
        [
         "248",
         "young"
        ],
        [
         "251",
         "young"
        ],
        [
         "252",
         "old"
        ],
        [
         "257",
         "young"
        ],
        [
         "262",
         "old"
        ],
        [
         "263",
         "young"
        ],
        [
         "268",
         "old"
        ],
        [
         "269",
         "young"
        ],
        [
         "273",
         "young"
        ]
       ],
       "shape": {
        "columns": 1,
        "rows": 182
       }
      },
      "text/plain": [
       "1      young\n",
       "3      young\n",
       "6        old\n",
       "10     child\n",
       "11       old\n",
       "       ...  \n",
       "871      old\n",
       "872    young\n",
       "879      old\n",
       "887    young\n",
       "889    young\n",
       "Name: age_group, Length: 182, dtype: category\n",
       "Categories (3, object): ['child' < 'young' < 'old']"
      ]
     },
     "execution_count": 81,
     "metadata": {},
     "output_type": "execute_result"
    }
   ],
   "source": [
    "# retrive binned data\n",
    "ks[\"age_group\"]"
   ]
  },
  {
   "cell_type": "markdown",
   "id": "c561f6ab",
   "metadata": {},
   "source": [
    "# convert categories into dummies values\n",
    "- easy to use for computation\n",
    "- Male Female (True,False)"
   ]
  },
  {
   "cell_type": "code",
   "execution_count": 82,
   "id": "c0eaa9e8",
   "metadata": {},
   "outputs": [],
   "source": [
    "# how to get dummies\n",
    "dummies=pd.get_dummies(ks[\"sex\"],prefix=\"sex\",drop_first=True)\n",
    "ks=pd.concat([ks,dummies],axis=1)"
   ]
  },
  {
   "cell_type": "code",
   "execution_count": null,
   "id": "fcfb74f4",
   "metadata": {},
   "outputs": [
    {
     "data": {
      "application/vnd.microsoft.datawrangler.viewer.v0+json": {
       "columns": [
        {
         "name": "index",
         "rawType": "int64",
         "type": "integer"
        },
        {
         "name": "sex_male",
         "rawType": "bool",
         "type": "boolean"
        }
       ],
       "ref": "bfa25d6d-dff1-44ce-9597-0a666b20c6c2",
       "rows": [
        [
         "1",
         "False"
        ],
        [
         "3",
         "False"
        ],
        [
         "6",
         "True"
        ],
        [
         "10",
         "False"
        ],
        [
         "11",
         "False"
        ],
        [
         "21",
         "True"
        ],
        [
         "23",
         "True"
        ],
        [
         "27",
         "True"
        ],
        [
         "52",
         "False"
        ],
        [
         "54",
         "True"
        ],
        [
         "62",
         "True"
        ],
        [
         "66",
         "False"
        ],
        [
         "75",
         "True"
        ],
        [
         "88",
         "False"
        ],
        [
         "92",
         "True"
        ],
        [
         "96",
         "True"
        ],
        [
         "97",
         "True"
        ],
        [
         "102",
         "True"
        ],
        [
         "110",
         "True"
        ],
        [
         "118",
         "True"
        ],
        [
         "123",
         "False"
        ],
        [
         "124",
         "True"
        ],
        [
         "136",
         "False"
        ],
        [
         "137",
         "True"
        ],
        [
         "139",
         "True"
        ],
        [
         "148",
         "True"
        ],
        [
         "151",
         "False"
        ],
        [
         "170",
         "True"
        ],
        [
         "174",
         "True"
        ],
        [
         "177",
         "False"
        ],
        [
         "183",
         "True"
        ],
        [
         "193",
         "True"
        ],
        [
         "194",
         "False"
        ],
        [
         "195",
         "False"
        ],
        [
         "205",
         "False"
        ],
        [
         "209",
         "True"
        ],
        [
         "215",
         "False"
        ],
        [
         "218",
         "False"
        ],
        [
         "224",
         "True"
        ],
        [
         "230",
         "False"
        ],
        [
         "245",
         "True"
        ],
        [
         "248",
         "True"
        ],
        [
         "251",
         "False"
        ],
        [
         "252",
         "True"
        ],
        [
         "257",
         "False"
        ],
        [
         "262",
         "True"
        ],
        [
         "263",
         "True"
        ],
        [
         "268",
         "False"
        ],
        [
         "269",
         "False"
        ],
        [
         "273",
         "True"
        ]
       ],
       "shape": {
        "columns": 1,
        "rows": 182
       }
      },
      "text/html": [
       "<div>\n",
       "<style scoped>\n",
       "    .dataframe tbody tr th:only-of-type {\n",
       "        vertical-align: middle;\n",
       "    }\n",
       "\n",
       "    .dataframe tbody tr th {\n",
       "        vertical-align: top;\n",
       "    }\n",
       "\n",
       "    .dataframe thead th {\n",
       "        text-align: right;\n",
       "    }\n",
       "</style>\n",
       "<table border=\"1\" class=\"dataframe\">\n",
       "  <thead>\n",
       "    <tr style=\"text-align: right;\">\n",
       "      <th></th>\n",
       "      <th>sex_male</th>\n",
       "    </tr>\n",
       "  </thead>\n",
       "  <tbody>\n",
       "    <tr>\n",
       "      <th>1</th>\n",
       "      <td>False</td>\n",
       "    </tr>\n",
       "    <tr>\n",
       "      <th>3</th>\n",
       "      <td>False</td>\n",
       "    </tr>\n",
       "    <tr>\n",
       "      <th>6</th>\n",
       "      <td>True</td>\n",
       "    </tr>\n",
       "    <tr>\n",
       "      <th>10</th>\n",
       "      <td>False</td>\n",
       "    </tr>\n",
       "    <tr>\n",
       "      <th>11</th>\n",
       "      <td>False</td>\n",
       "    </tr>\n",
       "    <tr>\n",
       "      <th>...</th>\n",
       "      <td>...</td>\n",
       "    </tr>\n",
       "    <tr>\n",
       "      <th>871</th>\n",
       "      <td>False</td>\n",
       "    </tr>\n",
       "    <tr>\n",
       "      <th>872</th>\n",
       "      <td>True</td>\n",
       "    </tr>\n",
       "    <tr>\n",
       "      <th>879</th>\n",
       "      <td>False</td>\n",
       "    </tr>\n",
       "    <tr>\n",
       "      <th>887</th>\n",
       "      <td>False</td>\n",
       "    </tr>\n",
       "    <tr>\n",
       "      <th>889</th>\n",
       "      <td>True</td>\n",
       "    </tr>\n",
       "  </tbody>\n",
       "</table>\n",
       "<p>182 rows × 1 columns</p>\n",
       "</div>"
      ],
      "text/plain": [
       "     sex_male\n",
       "1       False\n",
       "3       False\n",
       "6        True\n",
       "10      False\n",
       "11      False\n",
       "..        ...\n",
       "871     False\n",
       "872      True\n",
       "879     False\n",
       "887     False\n",
       "889      True\n",
       "\n",
       "[182 rows x 1 columns]"
      ]
     },
     "execution_count": 85,
     "metadata": {},
     "output_type": "execute_result"
    }
   ],
   "source": [
    "# check dummies\n",
    "dummies"
   ]
  },
  {
   "cell_type": "code",
   "execution_count": null,
   "id": "dbf7cbd8",
   "metadata": {},
   "outputs": [
    {
     "data": {
      "application/vnd.microsoft.datawrangler.viewer.v0+json": {
       "columns": [
        {
         "name": "index",
         "rawType": "int64",
         "type": "integer"
        },
        {
         "name": "female",
         "rawType": "bool",
         "type": "boolean"
        },
        {
         "name": "male",
         "rawType": "bool",
         "type": "boolean"
        }
       ],
       "ref": "95842c1d-a3e4-4655-ae77-f7fe2995f757",
       "rows": [
        [
         "1",
         "True",
         "False"
        ],
        [
         "3",
         "True",
         "False"
        ],
        [
         "6",
         "False",
         "True"
        ],
        [
         "10",
         "True",
         "False"
        ],
        [
         "11",
         "True",
         "False"
        ],
        [
         "21",
         "False",
         "True"
        ],
        [
         "23",
         "False",
         "True"
        ],
        [
         "27",
         "False",
         "True"
        ],
        [
         "52",
         "True",
         "False"
        ],
        [
         "54",
         "False",
         "True"
        ],
        [
         "62",
         "False",
         "True"
        ],
        [
         "66",
         "True",
         "False"
        ],
        [
         "75",
         "False",
         "True"
        ],
        [
         "88",
         "True",
         "False"
        ],
        [
         "92",
         "False",
         "True"
        ],
        [
         "96",
         "False",
         "True"
        ],
        [
         "97",
         "False",
         "True"
        ],
        [
         "102",
         "False",
         "True"
        ],
        [
         "110",
         "False",
         "True"
        ],
        [
         "118",
         "False",
         "True"
        ],
        [
         "123",
         "True",
         "False"
        ],
        [
         "124",
         "False",
         "True"
        ],
        [
         "136",
         "True",
         "False"
        ],
        [
         "137",
         "False",
         "True"
        ],
        [
         "139",
         "False",
         "True"
        ],
        [
         "148",
         "False",
         "True"
        ],
        [
         "151",
         "True",
         "False"
        ],
        [
         "170",
         "False",
         "True"
        ],
        [
         "174",
         "False",
         "True"
        ],
        [
         "177",
         "True",
         "False"
        ],
        [
         "183",
         "False",
         "True"
        ],
        [
         "193",
         "False",
         "True"
        ],
        [
         "194",
         "True",
         "False"
        ],
        [
         "195",
         "True",
         "False"
        ],
        [
         "205",
         "True",
         "False"
        ],
        [
         "209",
         "False",
         "True"
        ],
        [
         "215",
         "True",
         "False"
        ],
        [
         "218",
         "True",
         "False"
        ],
        [
         "224",
         "False",
         "True"
        ],
        [
         "230",
         "True",
         "False"
        ],
        [
         "245",
         "False",
         "True"
        ],
        [
         "248",
         "False",
         "True"
        ],
        [
         "251",
         "True",
         "False"
        ],
        [
         "252",
         "False",
         "True"
        ],
        [
         "257",
         "True",
         "False"
        ],
        [
         "262",
         "False",
         "True"
        ],
        [
         "263",
         "False",
         "True"
        ],
        [
         "268",
         "True",
         "False"
        ],
        [
         "269",
         "True",
         "False"
        ],
        [
         "273",
         "False",
         "True"
        ]
       ],
       "shape": {
        "columns": 2,
        "rows": 182
       }
      },
      "text/html": [
       "<div>\n",
       "<style scoped>\n",
       "    .dataframe tbody tr th:only-of-type {\n",
       "        vertical-align: middle;\n",
       "    }\n",
       "\n",
       "    .dataframe tbody tr th {\n",
       "        vertical-align: top;\n",
       "    }\n",
       "\n",
       "    .dataframe thead th {\n",
       "        text-align: right;\n",
       "    }\n",
       "</style>\n",
       "<table border=\"1\" class=\"dataframe\">\n",
       "  <thead>\n",
       "    <tr style=\"text-align: right;\">\n",
       "      <th></th>\n",
       "      <th>female</th>\n",
       "      <th>male</th>\n",
       "    </tr>\n",
       "  </thead>\n",
       "  <tbody>\n",
       "    <tr>\n",
       "      <th>1</th>\n",
       "      <td>True</td>\n",
       "      <td>False</td>\n",
       "    </tr>\n",
       "    <tr>\n",
       "      <th>3</th>\n",
       "      <td>True</td>\n",
       "      <td>False</td>\n",
       "    </tr>\n",
       "    <tr>\n",
       "      <th>6</th>\n",
       "      <td>False</td>\n",
       "      <td>True</td>\n",
       "    </tr>\n",
       "    <tr>\n",
       "      <th>10</th>\n",
       "      <td>True</td>\n",
       "      <td>False</td>\n",
       "    </tr>\n",
       "    <tr>\n",
       "      <th>11</th>\n",
       "      <td>True</td>\n",
       "      <td>False</td>\n",
       "    </tr>\n",
       "    <tr>\n",
       "      <th>...</th>\n",
       "      <td>...</td>\n",
       "      <td>...</td>\n",
       "    </tr>\n",
       "    <tr>\n",
       "      <th>871</th>\n",
       "      <td>True</td>\n",
       "      <td>False</td>\n",
       "    </tr>\n",
       "    <tr>\n",
       "      <th>872</th>\n",
       "      <td>False</td>\n",
       "      <td>True</td>\n",
       "    </tr>\n",
       "    <tr>\n",
       "      <th>879</th>\n",
       "      <td>True</td>\n",
       "      <td>False</td>\n",
       "    </tr>\n",
       "    <tr>\n",
       "      <th>887</th>\n",
       "      <td>True</td>\n",
       "      <td>False</td>\n",
       "    </tr>\n",
       "    <tr>\n",
       "      <th>889</th>\n",
       "      <td>False</td>\n",
       "      <td>True</td>\n",
       "    </tr>\n",
       "  </tbody>\n",
       "</table>\n",
       "<p>182 rows × 2 columns</p>\n",
       "</div>"
      ],
      "text/plain": [
       "     female   male\n",
       "1      True  False\n",
       "3      True  False\n",
       "6     False   True\n",
       "10     True  False\n",
       "11     True  False\n",
       "..      ...    ...\n",
       "871    True  False\n",
       "872   False   True\n",
       "879    True  False\n",
       "887    True  False\n",
       "889   False   True\n",
       "\n",
       "[182 rows x 2 columns]"
      ]
     },
     "execution_count": 86,
     "metadata": {},
     "output_type": "execute_result"
    }
   ],
   "source": [
    "# another simple method for dummies\n",
    "pd.get_dummies(ks[\"sex\"])"
   ]
  },
  {
   "cell_type": "code",
   "execution_count": null,
   "id": "a6dd42c4",
   "metadata": {},
   "outputs": [
    {
     "data": {
      "application/vnd.microsoft.datawrangler.viewer.v0+json": {
       "columns": [
        {
         "name": "index",
         "rawType": "int64",
         "type": "integer"
        },
        {
         "name": "survived",
         "rawType": "int64",
         "type": "integer"
        },
        {
         "name": "pclass",
         "rawType": "int64",
         "type": "integer"
        },
        {
         "name": "sex",
         "rawType": "object",
         "type": "string"
        },
        {
         "name": "age",
         "rawType": "float64",
         "type": "float"
        },
        {
         "name": "sibsp",
         "rawType": "int64",
         "type": "integer"
        },
        {
         "name": "parch",
         "rawType": "int64",
         "type": "integer"
        },
        {
         "name": "fare",
         "rawType": "float64",
         "type": "float"
        },
        {
         "name": "embarked",
         "rawType": "object",
         "type": "string"
        },
        {
         "name": "class",
         "rawType": "category",
         "type": "unknown"
        },
        {
         "name": "who",
         "rawType": "object",
         "type": "string"
        },
        {
         "name": "adult_male",
         "rawType": "bool",
         "type": "boolean"
        },
        {
         "name": "deck",
         "rawType": "category",
         "type": "unknown"
        },
        {
         "name": "embark_town",
         "rawType": "object",
         "type": "string"
        },
        {
         "name": "alive",
         "rawType": "object",
         "type": "string"
        },
        {
         "name": "alone",
         "rawType": "bool",
         "type": "boolean"
        },
        {
         "name": "age_group",
         "rawType": "category",
         "type": "unknown"
        },
        {
         "name": "sex_male",
         "rawType": "bool",
         "type": "boolean"
        },
        {
         "name": "sex_female",
         "rawType": "bool",
         "type": "boolean"
        },
        {
         "name": "sex_male",
         "rawType": "bool",
         "type": "boolean"
        },
        {
         "name": "sex_female",
         "rawType": "bool",
         "type": "boolean"
        },
        {
         "name": "sex_male",
         "rawType": "bool",
         "type": "boolean"
        }
       ],
       "ref": "6d0d9012-76f9-43c1-a4ab-e5fed62241a4",
       "rows": [
        [
         "1",
         "1",
         "1",
         "female",
         "38.0",
         "1",
         "0",
         "71.2833",
         "C",
         "First",
         "woman",
         "False",
         "C",
         "Cherbourg",
         "yes",
         "False",
         "young",
         "False",
         "True",
         "False",
         "True",
         "False"
        ],
        [
         "3",
         "1",
         "1",
         "female",
         "35.0",
         "1",
         "0",
         "53.1",
         "S",
         "First",
         "woman",
         "False",
         "C",
         "Southampton",
         "yes",
         "False",
         "young",
         "False",
         "True",
         "False",
         "True",
         "False"
        ],
        [
         "6",
         "0",
         "1",
         "male",
         "54.0",
         "0",
         "0",
         "51.8625",
         "S",
         "First",
         "man",
         "True",
         "E",
         "Southampton",
         "no",
         "True",
         "old",
         "True",
         "False",
         "True",
         "False",
         "True"
        ],
        [
         "10",
         "1",
         "3",
         "female",
         "4.0",
         "1",
         "1",
         "16.7",
         "S",
         "Third",
         "child",
         "False",
         "G",
         "Southampton",
         "yes",
         "False",
         "child",
         "False",
         "True",
         "False",
         "True",
         "False"
        ],
        [
         "11",
         "1",
         "1",
         "female",
         "58.0",
         "0",
         "0",
         "26.55",
         "S",
         "First",
         "woman",
         "False",
         "C",
         "Southampton",
         "yes",
         "True",
         "old",
         "False",
         "True",
         "False",
         "True",
         "False"
        ]
       ],
       "shape": {
        "columns": 21,
        "rows": 5
       }
      },
      "text/html": [
       "<div>\n",
       "<style scoped>\n",
       "    .dataframe tbody tr th:only-of-type {\n",
       "        vertical-align: middle;\n",
       "    }\n",
       "\n",
       "    .dataframe tbody tr th {\n",
       "        vertical-align: top;\n",
       "    }\n",
       "\n",
       "    .dataframe thead th {\n",
       "        text-align: right;\n",
       "    }\n",
       "</style>\n",
       "<table border=\"1\" class=\"dataframe\">\n",
       "  <thead>\n",
       "    <tr style=\"text-align: right;\">\n",
       "      <th></th>\n",
       "      <th>survived</th>\n",
       "      <th>pclass</th>\n",
       "      <th>sex</th>\n",
       "      <th>age</th>\n",
       "      <th>sibsp</th>\n",
       "      <th>parch</th>\n",
       "      <th>fare</th>\n",
       "      <th>embarked</th>\n",
       "      <th>class</th>\n",
       "      <th>who</th>\n",
       "      <th>...</th>\n",
       "      <th>deck</th>\n",
       "      <th>embark_town</th>\n",
       "      <th>alive</th>\n",
       "      <th>alone</th>\n",
       "      <th>age_group</th>\n",
       "      <th>sex_male</th>\n",
       "      <th>sex_female</th>\n",
       "      <th>sex_male</th>\n",
       "      <th>sex_female</th>\n",
       "      <th>sex_male</th>\n",
       "    </tr>\n",
       "  </thead>\n",
       "  <tbody>\n",
       "    <tr>\n",
       "      <th>1</th>\n",
       "      <td>1</td>\n",
       "      <td>1</td>\n",
       "      <td>female</td>\n",
       "      <td>38.0</td>\n",
       "      <td>1</td>\n",
       "      <td>0</td>\n",
       "      <td>71.2833</td>\n",
       "      <td>C</td>\n",
       "      <td>First</td>\n",
       "      <td>woman</td>\n",
       "      <td>...</td>\n",
       "      <td>C</td>\n",
       "      <td>Cherbourg</td>\n",
       "      <td>yes</td>\n",
       "      <td>False</td>\n",
       "      <td>young</td>\n",
       "      <td>False</td>\n",
       "      <td>True</td>\n",
       "      <td>False</td>\n",
       "      <td>True</td>\n",
       "      <td>False</td>\n",
       "    </tr>\n",
       "    <tr>\n",
       "      <th>3</th>\n",
       "      <td>1</td>\n",
       "      <td>1</td>\n",
       "      <td>female</td>\n",
       "      <td>35.0</td>\n",
       "      <td>1</td>\n",
       "      <td>0</td>\n",
       "      <td>53.1000</td>\n",
       "      <td>S</td>\n",
       "      <td>First</td>\n",
       "      <td>woman</td>\n",
       "      <td>...</td>\n",
       "      <td>C</td>\n",
       "      <td>Southampton</td>\n",
       "      <td>yes</td>\n",
       "      <td>False</td>\n",
       "      <td>young</td>\n",
       "      <td>False</td>\n",
       "      <td>True</td>\n",
       "      <td>False</td>\n",
       "      <td>True</td>\n",
       "      <td>False</td>\n",
       "    </tr>\n",
       "    <tr>\n",
       "      <th>6</th>\n",
       "      <td>0</td>\n",
       "      <td>1</td>\n",
       "      <td>male</td>\n",
       "      <td>54.0</td>\n",
       "      <td>0</td>\n",
       "      <td>0</td>\n",
       "      <td>51.8625</td>\n",
       "      <td>S</td>\n",
       "      <td>First</td>\n",
       "      <td>man</td>\n",
       "      <td>...</td>\n",
       "      <td>E</td>\n",
       "      <td>Southampton</td>\n",
       "      <td>no</td>\n",
       "      <td>True</td>\n",
       "      <td>old</td>\n",
       "      <td>True</td>\n",
       "      <td>False</td>\n",
       "      <td>True</td>\n",
       "      <td>False</td>\n",
       "      <td>True</td>\n",
       "    </tr>\n",
       "    <tr>\n",
       "      <th>10</th>\n",
       "      <td>1</td>\n",
       "      <td>3</td>\n",
       "      <td>female</td>\n",
       "      <td>4.0</td>\n",
       "      <td>1</td>\n",
       "      <td>1</td>\n",
       "      <td>16.7000</td>\n",
       "      <td>S</td>\n",
       "      <td>Third</td>\n",
       "      <td>child</td>\n",
       "      <td>...</td>\n",
       "      <td>G</td>\n",
       "      <td>Southampton</td>\n",
       "      <td>yes</td>\n",
       "      <td>False</td>\n",
       "      <td>child</td>\n",
       "      <td>False</td>\n",
       "      <td>True</td>\n",
       "      <td>False</td>\n",
       "      <td>True</td>\n",
       "      <td>False</td>\n",
       "    </tr>\n",
       "    <tr>\n",
       "      <th>11</th>\n",
       "      <td>1</td>\n",
       "      <td>1</td>\n",
       "      <td>female</td>\n",
       "      <td>58.0</td>\n",
       "      <td>0</td>\n",
       "      <td>0</td>\n",
       "      <td>26.5500</td>\n",
       "      <td>S</td>\n",
       "      <td>First</td>\n",
       "      <td>woman</td>\n",
       "      <td>...</td>\n",
       "      <td>C</td>\n",
       "      <td>Southampton</td>\n",
       "      <td>yes</td>\n",
       "      <td>True</td>\n",
       "      <td>old</td>\n",
       "      <td>False</td>\n",
       "      <td>True</td>\n",
       "      <td>False</td>\n",
       "      <td>True</td>\n",
       "      <td>False</td>\n",
       "    </tr>\n",
       "  </tbody>\n",
       "</table>\n",
       "<p>5 rows × 21 columns</p>\n",
       "</div>"
      ],
      "text/plain": [
       "    survived  pclass     sex   age  sibsp  parch     fare embarked  class  \\\n",
       "1          1       1  female  38.0      1      0  71.2833        C  First   \n",
       "3          1       1  female  35.0      1      0  53.1000        S  First   \n",
       "6          0       1    male  54.0      0      0  51.8625        S  First   \n",
       "10         1       3  female   4.0      1      1  16.7000        S  Third   \n",
       "11         1       1  female  58.0      0      0  26.5500        S  First   \n",
       "\n",
       "      who  ...  deck  embark_town alive  alone  age_group  sex_male  \\\n",
       "1   woman  ...     C    Cherbourg   yes  False      young     False   \n",
       "3   woman  ...     C  Southampton   yes  False      young     False   \n",
       "6     man  ...     E  Southampton    no   True        old      True   \n",
       "10  child  ...     G  Southampton   yes  False      child     False   \n",
       "11  woman  ...     C  Southampton   yes   True        old     False   \n",
       "\n",
       "    sex_female  sex_male  sex_female  sex_male  \n",
       "1         True     False        True     False  \n",
       "3         True     False        True     False  \n",
       "6        False      True       False      True  \n",
       "10        True     False        True     False  \n",
       "11        True     False        True     False  \n",
       "\n",
       "[5 rows x 21 columns]"
      ]
     },
     "execution_count": 92,
     "metadata": {},
     "output_type": "execute_result"
    }
   ],
   "source": [
    "# update dummise in original data set\n",
    "ks=pd.concat([ks,pd.get_dummies(ks[\"sex\"],prefix=\"sex\")],axis=1)\n",
    "ks.head()\n"
   ]
  }
 ],
 "metadata": {
  "kernelspec": {
   "display_name": "Python 3",
   "language": "python",
   "name": "python3"
  },
  "language_info": {
   "codemirror_mode": {
    "name": "ipython",
    "version": 3
   },
   "file_extension": ".py",
   "mimetype": "text/x-python",
   "name": "python",
   "nbconvert_exporter": "python",
   "pygments_lexer": "ipython3",
   "version": "3.13.5"
  }
 },
 "nbformat": 4,
 "nbformat_minor": 5
}
